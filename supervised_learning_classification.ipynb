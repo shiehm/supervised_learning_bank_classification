{
 "cells": [
  {
   "cell_type": "markdown",
   "metadata": {},
   "source": [
    "# Supervised Learning Project \n",
    "\n",
    "Beta Bank customers are leaving: little by little, chipping away every month. The bankers figured out it’s cheaper to save the existing customers rather than to attract new ones.\n",
    "We need to predict whether a customer will leave the bank soon. You have the data on clients’ past behavior and termination of contracts with the bank.\n",
    "Build a model with the maximum possible F1 score. To pass the project, **you need an F1 score of at least 0.59. Check the F1 for the test set.\n",
    "Additionally, measure the AUC-ROC metric and compare it with the F1.**\n",
    "\n",
    "**Project instructions:**\n",
    "- Download and prepare the data. Explain the procedure.\n",
    "- Examine the balance of classes. Train the model without taking into account the imbalance. Briefly describe your findings.\n",
    "- Improve the quality of the model. Make sure you use at least two approaches to fixing class imbalance. Use the training set to pick the best parameters. Train different models on training and validation sets. Find the best one. Briefly describe your findings.\n",
    "- Perform the final testing.\n",
    "\n",
    "**Data description**\n",
    "- RowNumber — data string index\n",
    "- CustomerId — unique customer identifier\n",
    "- Surname — surname\n",
    "- CreditScore — credit score\n",
    "- Geography — country of residence\n",
    "- Gender — gender\n",
    "- Age — age\n",
    "- Tenure — period of maturation for a customer’s fixed deposit (years)\n",
    "- Balance — account balance\n",
    "- NumOfProducts — number of banking products used by the customer\n",
    "- HasCrCard — customer has a credit card\n",
    "- IsActiveMember — customer’s activeness\n",
    "- EstimatedSalary — estimated salary\n",
    "- Exited — сustomer has left\n",
    "\n",
    "**Project evaluation**\n",
    "- How did you prepare the data for training? Have you processed all of the feature types?\n",
    "- Have you explained the preprocessing steps well enough?\n",
    "- How did you investigate the balance of classes?\n",
    "- Did you study the model without taking into account the imbalance of classes?\n",
    "- What are your findings about the task research?\n",
    "- Have you correctly split the data into sets?\n",
    "- How have you worked with the imbalance of classes?\n",
    "- Did you use at least two techniques for imbalance fixing?\n",
    "- Have you performed the model training, validation, and final testing correctly?\n",
    "- How high is your F1 score?\n",
    "- Did you examine the AUC-ROC values?\n",
    "- Have you kept to the project structure and kept the code neat?"
   ]
  },
  {
   "cell_type": "markdown",
   "metadata": {},
   "source": [
    "### Data Preprocessing and EDA\n",
    "- This is a classification task (churn / not churn)\n",
    "- We have a bunch of categorical columns (i.e. gender, geography, etc.) and numeric ones \n",
    "- There are some irrelevant columns we will not feed the model (RowNumber, CustomerId)\n",
    "- We'll need to fill in missing data in the Tenure column\n",
    "\n",
    "**Data to Fix:**\n",
    "- Nulls in Tenure column, figure out why, fill in with 0's perhaps \n",
    "- Can drop surname, irrelevant \n",
    "- RowNumber is just the index, can drop\n",
    "- Will keep CustomerId as a unique user identifier (we don't need it for this project, but would be a best practice)\n",
    "- Can transform Gender and Geography "
   ]
  },
  {
   "cell_type": "code",
   "execution_count": 4,
   "metadata": {},
   "outputs": [],
   "source": [
    "# Import necessary modules\n",
    "import pandas as pd\n",
    "import numpy as np\n",
    "import matplotlib.pyplot as plt \n",
    "import scipy.stats as st\n",
    "\n",
    "# Preprocessing modules\n",
    "from sklearn.preprocessing import LabelEncoder\n",
    "from sklearn.preprocessing import StandardScaler\n",
    "from sklearn.model_selection import train_test_split\n",
    "from sklearn.utils import shuffle\n",
    "from sklearn.model_selection import GridSearchCV\n",
    "\n",
    "# Classification models\n",
    "from sklearn.linear_model import LogisticRegression \n",
    "from sklearn.tree import DecisionTreeClassifier\n",
    "from sklearn.ensemble import RandomForestClassifier\n",
    "\n",
    "# Evaluation modules\n",
    "from sklearn.model_selection import cross_val_score\n",
    "from sklearn.metrics import accuracy_score, recall_score, precision_score, f1_score, roc_auc_score\n",
    "from sklearn.metrics import mean_squared_error\n",
    "from sklearn.metrics import confusion_matrix\n",
    "from sklearn.metrics import precision_recall_curve"
   ]
  },
  {
   "cell_type": "code",
   "execution_count": 2,
   "metadata": {},
   "outputs": [],
   "source": [
    "# Load the data\n",
    "\n",
    "df = pd.read_csv('/datasets/Churn.csv')"
   ]
  },
  {
   "cell_type": "code",
   "execution_count": 3,
   "metadata": {},
   "outputs": [
    {
     "name": "stdout",
     "output_type": "stream",
     "text": [
      "<class 'pandas.core.frame.DataFrame'>\n",
      "RangeIndex: 10000 entries, 0 to 9999\n",
      "Data columns (total 14 columns):\n",
      " #   Column           Non-Null Count  Dtype  \n",
      "---  ------           --------------  -----  \n",
      " 0   RowNumber        10000 non-null  int64  \n",
      " 1   CustomerId       10000 non-null  int64  \n",
      " 2   Surname          10000 non-null  object \n",
      " 3   CreditScore      10000 non-null  int64  \n",
      " 4   Geography        10000 non-null  object \n",
      " 5   Gender           10000 non-null  object \n",
      " 6   Age              10000 non-null  int64  \n",
      " 7   Tenure           9091 non-null   float64\n",
      " 8   Balance          10000 non-null  float64\n",
      " 9   NumOfProducts    10000 non-null  int64  \n",
      " 10  HasCrCard        10000 non-null  int64  \n",
      " 11  IsActiveMember   10000 non-null  int64  \n",
      " 12  EstimatedSalary  10000 non-null  float64\n",
      " 13  Exited           10000 non-null  int64  \n",
      "dtypes: float64(3), int64(8), object(3)\n",
      "memory usage: 1.1+ MB\n"
     ]
    }
   ],
   "source": [
    "df.info()"
   ]
  },
  {
   "cell_type": "code",
   "execution_count": 4,
   "metadata": {
    "scrolled": true
   },
   "outputs": [
    {
     "data": {
      "text/html": [
       "<div>\n",
       "<style scoped>\n",
       "    .dataframe tbody tr th:only-of-type {\n",
       "        vertical-align: middle;\n",
       "    }\n",
       "\n",
       "    .dataframe tbody tr th {\n",
       "        vertical-align: top;\n",
       "    }\n",
       "\n",
       "    .dataframe thead th {\n",
       "        text-align: right;\n",
       "    }\n",
       "</style>\n",
       "<table border=\"1\" class=\"dataframe\">\n",
       "  <thead>\n",
       "    <tr style=\"text-align: right;\">\n",
       "      <th></th>\n",
       "      <th>RowNumber</th>\n",
       "      <th>CustomerId</th>\n",
       "      <th>Surname</th>\n",
       "      <th>CreditScore</th>\n",
       "      <th>Geography</th>\n",
       "      <th>Gender</th>\n",
       "      <th>Age</th>\n",
       "      <th>Tenure</th>\n",
       "      <th>Balance</th>\n",
       "      <th>NumOfProducts</th>\n",
       "      <th>HasCrCard</th>\n",
       "      <th>IsActiveMember</th>\n",
       "      <th>EstimatedSalary</th>\n",
       "      <th>Exited</th>\n",
       "    </tr>\n",
       "  </thead>\n",
       "  <tbody>\n",
       "    <tr>\n",
       "      <th>9995</th>\n",
       "      <td>9996</td>\n",
       "      <td>15606229</td>\n",
       "      <td>Obijiaku</td>\n",
       "      <td>771</td>\n",
       "      <td>France</td>\n",
       "      <td>Male</td>\n",
       "      <td>39</td>\n",
       "      <td>5.0</td>\n",
       "      <td>0.00</td>\n",
       "      <td>2</td>\n",
       "      <td>1</td>\n",
       "      <td>0</td>\n",
       "      <td>96270.64</td>\n",
       "      <td>0</td>\n",
       "    </tr>\n",
       "    <tr>\n",
       "      <th>9996</th>\n",
       "      <td>9997</td>\n",
       "      <td>15569892</td>\n",
       "      <td>Johnstone</td>\n",
       "      <td>516</td>\n",
       "      <td>France</td>\n",
       "      <td>Male</td>\n",
       "      <td>35</td>\n",
       "      <td>10.0</td>\n",
       "      <td>57369.61</td>\n",
       "      <td>1</td>\n",
       "      <td>1</td>\n",
       "      <td>1</td>\n",
       "      <td>101699.77</td>\n",
       "      <td>0</td>\n",
       "    </tr>\n",
       "    <tr>\n",
       "      <th>9997</th>\n",
       "      <td>9998</td>\n",
       "      <td>15584532</td>\n",
       "      <td>Liu</td>\n",
       "      <td>709</td>\n",
       "      <td>France</td>\n",
       "      <td>Female</td>\n",
       "      <td>36</td>\n",
       "      <td>7.0</td>\n",
       "      <td>0.00</td>\n",
       "      <td>1</td>\n",
       "      <td>0</td>\n",
       "      <td>1</td>\n",
       "      <td>42085.58</td>\n",
       "      <td>1</td>\n",
       "    </tr>\n",
       "    <tr>\n",
       "      <th>9998</th>\n",
       "      <td>9999</td>\n",
       "      <td>15682355</td>\n",
       "      <td>Sabbatini</td>\n",
       "      <td>772</td>\n",
       "      <td>Germany</td>\n",
       "      <td>Male</td>\n",
       "      <td>42</td>\n",
       "      <td>3.0</td>\n",
       "      <td>75075.31</td>\n",
       "      <td>2</td>\n",
       "      <td>1</td>\n",
       "      <td>0</td>\n",
       "      <td>92888.52</td>\n",
       "      <td>1</td>\n",
       "    </tr>\n",
       "    <tr>\n",
       "      <th>9999</th>\n",
       "      <td>10000</td>\n",
       "      <td>15628319</td>\n",
       "      <td>Walker</td>\n",
       "      <td>792</td>\n",
       "      <td>France</td>\n",
       "      <td>Female</td>\n",
       "      <td>28</td>\n",
       "      <td>NaN</td>\n",
       "      <td>130142.79</td>\n",
       "      <td>1</td>\n",
       "      <td>1</td>\n",
       "      <td>0</td>\n",
       "      <td>38190.78</td>\n",
       "      <td>0</td>\n",
       "    </tr>\n",
       "  </tbody>\n",
       "</table>\n",
       "</div>"
      ],
      "text/plain": [
       "      RowNumber  CustomerId    Surname  CreditScore Geography  Gender  Age  \\\n",
       "9995       9996    15606229   Obijiaku          771    France    Male   39   \n",
       "9996       9997    15569892  Johnstone          516    France    Male   35   \n",
       "9997       9998    15584532        Liu          709    France  Female   36   \n",
       "9998       9999    15682355  Sabbatini          772   Germany    Male   42   \n",
       "9999      10000    15628319     Walker          792    France  Female   28   \n",
       "\n",
       "      Tenure    Balance  NumOfProducts  HasCrCard  IsActiveMember  \\\n",
       "9995     5.0       0.00              2          1               0   \n",
       "9996    10.0   57369.61              1          1               1   \n",
       "9997     7.0       0.00              1          0               1   \n",
       "9998     3.0   75075.31              2          1               0   \n",
       "9999     NaN  130142.79              1          1               0   \n",
       "\n",
       "      EstimatedSalary  Exited  \n",
       "9995         96270.64       0  \n",
       "9996        101699.77       0  \n",
       "9997         42085.58       1  \n",
       "9998         92888.52       1  \n",
       "9999         38190.78       0  "
      ]
     },
     "execution_count": 4,
     "metadata": {},
     "output_type": "execute_result"
    }
   ],
   "source": [
    "df.tail()"
   ]
  },
  {
   "cell_type": "code",
   "execution_count": 5,
   "metadata": {},
   "outputs": [],
   "source": [
    "# Drop unneeded columns\n",
    "\n",
    "df = df.drop(['RowNumber', 'Surname'], axis=1)"
   ]
  },
  {
   "cell_type": "code",
   "execution_count": 6,
   "metadata": {},
   "outputs": [
    {
     "data": {
      "text/plain": [
       "France     5014\n",
       "Germany    2509\n",
       "Spain      2477\n",
       "Name: Geography, dtype: int64"
      ]
     },
     "execution_count": 6,
     "metadata": {},
     "output_type": "execute_result"
    }
   ],
   "source": [
    "# Checking cardinality of categorical data\n",
    "\n",
    "df['Geography'].value_counts()"
   ]
  },
  {
   "cell_type": "code",
   "execution_count": 7,
   "metadata": {},
   "outputs": [
    {
     "data": {
      "text/plain": [
       "Male      5457\n",
       "Female    4543\n",
       "Name: Gender, dtype: int64"
      ]
     },
     "execution_count": 7,
     "metadata": {},
     "output_type": "execute_result"
    }
   ],
   "source": [
    "df['Gender'].value_counts()"
   ]
  },
  {
   "cell_type": "code",
   "execution_count": 8,
   "metadata": {},
   "outputs": [
    {
     "data": {
      "text/plain": [
       "1    5151\n",
       "0    4849\n",
       "Name: IsActiveMember, dtype: int64"
      ]
     },
     "execution_count": 8,
     "metadata": {},
     "output_type": "execute_result"
    }
   ],
   "source": [
    "df['IsActiveMember'].value_counts()"
   ]
  },
  {
   "cell_type": "code",
   "execution_count": 9,
   "metadata": {},
   "outputs": [
    {
     "data": {
      "text/plain": [
       "0    7963\n",
       "1    2037\n",
       "Name: Exited, dtype: int64"
      ]
     },
     "execution_count": 9,
     "metadata": {},
     "output_type": "execute_result"
    }
   ],
   "source": [
    "df['Exited'].value_counts()"
   ]
  },
  {
   "cell_type": "code",
   "execution_count": 10,
   "metadata": {},
   "outputs": [
    {
     "data": {
      "text/plain": [
       "1.0     952\n",
       "2.0     950\n",
       "8.0     933\n",
       "3.0     928\n",
       "5.0     927\n",
       "7.0     925\n",
       "4.0     885\n",
       "9.0     882\n",
       "6.0     881\n",
       "10.0    446\n",
       "0.0     382\n",
       "Name: Tenure, dtype: int64"
      ]
     },
     "execution_count": 10,
     "metadata": {},
     "output_type": "execute_result"
    }
   ],
   "source": [
    "# looking into missing tenure data\n",
    "\n",
    "df['Tenure'].value_counts()"
   ]
  },
  {
   "cell_type": "code",
   "execution_count": 11,
   "metadata": {},
   "outputs": [
    {
     "data": {
      "text/plain": [
       "909"
      ]
     },
     "execution_count": 11,
     "metadata": {},
     "output_type": "execute_result"
    }
   ],
   "source": [
    "df['Tenure'].isna().sum()"
   ]
  },
  {
   "cell_type": "code",
   "execution_count": 12,
   "metadata": {},
   "outputs": [
    {
     "data": {
      "text/html": [
       "<div>\n",
       "<style scoped>\n",
       "    .dataframe tbody tr th:only-of-type {\n",
       "        vertical-align: middle;\n",
       "    }\n",
       "\n",
       "    .dataframe tbody tr th {\n",
       "        vertical-align: top;\n",
       "    }\n",
       "\n",
       "    .dataframe thead th {\n",
       "        text-align: right;\n",
       "    }\n",
       "</style>\n",
       "<table border=\"1\" class=\"dataframe\">\n",
       "  <thead>\n",
       "    <tr style=\"text-align: right;\">\n",
       "      <th></th>\n",
       "      <th>CustomerId</th>\n",
       "      <th>CreditScore</th>\n",
       "      <th>Age</th>\n",
       "      <th>Tenure</th>\n",
       "      <th>Balance</th>\n",
       "      <th>NumOfProducts</th>\n",
       "      <th>HasCrCard</th>\n",
       "      <th>IsActiveMember</th>\n",
       "      <th>EstimatedSalary</th>\n",
       "      <th>Exited</th>\n",
       "    </tr>\n",
       "  </thead>\n",
       "  <tbody>\n",
       "    <tr>\n",
       "      <th>count</th>\n",
       "      <td>9.090000e+02</td>\n",
       "      <td>909.000000</td>\n",
       "      <td>909.000000</td>\n",
       "      <td>0.0</td>\n",
       "      <td>909.000000</td>\n",
       "      <td>909.000000</td>\n",
       "      <td>909.000000</td>\n",
       "      <td>909.000000</td>\n",
       "      <td>909.000000</td>\n",
       "      <td>909.000000</td>\n",
       "    </tr>\n",
       "    <tr>\n",
       "      <th>mean</th>\n",
       "      <td>1.568981e+07</td>\n",
       "      <td>648.451045</td>\n",
       "      <td>38.647965</td>\n",
       "      <td>NaN</td>\n",
       "      <td>76117.341474</td>\n",
       "      <td>1.530253</td>\n",
       "      <td>0.710671</td>\n",
       "      <td>0.510451</td>\n",
       "      <td>99180.389373</td>\n",
       "      <td>0.201320</td>\n",
       "    </tr>\n",
       "    <tr>\n",
       "      <th>std</th>\n",
       "      <td>7.511225e+04</td>\n",
       "      <td>99.079381</td>\n",
       "      <td>9.785438</td>\n",
       "      <td>NaN</td>\n",
       "      <td>63105.690715</td>\n",
       "      <td>0.588452</td>\n",
       "      <td>0.453701</td>\n",
       "      <td>0.500166</td>\n",
       "      <td>56378.063765</td>\n",
       "      <td>0.401207</td>\n",
       "    </tr>\n",
       "    <tr>\n",
       "      <th>min</th>\n",
       "      <td>1.556581e+07</td>\n",
       "      <td>359.000000</td>\n",
       "      <td>18.000000</td>\n",
       "      <td>NaN</td>\n",
       "      <td>0.000000</td>\n",
       "      <td>1.000000</td>\n",
       "      <td>0.000000</td>\n",
       "      <td>0.000000</td>\n",
       "      <td>106.670000</td>\n",
       "      <td>0.000000</td>\n",
       "    </tr>\n",
       "    <tr>\n",
       "      <th>25%</th>\n",
       "      <td>1.562658e+07</td>\n",
       "      <td>580.000000</td>\n",
       "      <td>32.000000</td>\n",
       "      <td>NaN</td>\n",
       "      <td>0.000000</td>\n",
       "      <td>1.000000</td>\n",
       "      <td>0.000000</td>\n",
       "      <td>0.000000</td>\n",
       "      <td>49872.330000</td>\n",
       "      <td>0.000000</td>\n",
       "    </tr>\n",
       "    <tr>\n",
       "      <th>50%</th>\n",
       "      <td>1.568687e+07</td>\n",
       "      <td>647.000000</td>\n",
       "      <td>37.000000</td>\n",
       "      <td>NaN</td>\n",
       "      <td>96674.550000</td>\n",
       "      <td>1.000000</td>\n",
       "      <td>1.000000</td>\n",
       "      <td>1.000000</td>\n",
       "      <td>99444.020000</td>\n",
       "      <td>0.000000</td>\n",
       "    </tr>\n",
       "    <tr>\n",
       "      <th>75%</th>\n",
       "      <td>1.575680e+07</td>\n",
       "      <td>718.000000</td>\n",
       "      <td>43.000000</td>\n",
       "      <td>NaN</td>\n",
       "      <td>128554.980000</td>\n",
       "      <td>2.000000</td>\n",
       "      <td>1.000000</td>\n",
       "      <td>1.000000</td>\n",
       "      <td>145759.700000</td>\n",
       "      <td>0.000000</td>\n",
       "    </tr>\n",
       "    <tr>\n",
       "      <th>max</th>\n",
       "      <td>1.581569e+07</td>\n",
       "      <td>850.000000</td>\n",
       "      <td>92.000000</td>\n",
       "      <td>NaN</td>\n",
       "      <td>206663.750000</td>\n",
       "      <td>4.000000</td>\n",
       "      <td>1.000000</td>\n",
       "      <td>1.000000</td>\n",
       "      <td>199390.450000</td>\n",
       "      <td>1.000000</td>\n",
       "    </tr>\n",
       "  </tbody>\n",
       "</table>\n",
       "</div>"
      ],
      "text/plain": [
       "         CustomerId  CreditScore         Age  Tenure        Balance  \\\n",
       "count  9.090000e+02   909.000000  909.000000     0.0     909.000000   \n",
       "mean   1.568981e+07   648.451045   38.647965     NaN   76117.341474   \n",
       "std    7.511225e+04    99.079381    9.785438     NaN   63105.690715   \n",
       "min    1.556581e+07   359.000000   18.000000     NaN       0.000000   \n",
       "25%    1.562658e+07   580.000000   32.000000     NaN       0.000000   \n",
       "50%    1.568687e+07   647.000000   37.000000     NaN   96674.550000   \n",
       "75%    1.575680e+07   718.000000   43.000000     NaN  128554.980000   \n",
       "max    1.581569e+07   850.000000   92.000000     NaN  206663.750000   \n",
       "\n",
       "       NumOfProducts   HasCrCard  IsActiveMember  EstimatedSalary      Exited  \n",
       "count     909.000000  909.000000      909.000000       909.000000  909.000000  \n",
       "mean        1.530253    0.710671        0.510451     99180.389373    0.201320  \n",
       "std         0.588452    0.453701        0.500166     56378.063765    0.401207  \n",
       "min         1.000000    0.000000        0.000000       106.670000    0.000000  \n",
       "25%         1.000000    0.000000        0.000000     49872.330000    0.000000  \n",
       "50%         1.000000    1.000000        1.000000     99444.020000    0.000000  \n",
       "75%         2.000000    1.000000        1.000000    145759.700000    0.000000  \n",
       "max         4.000000    1.000000        1.000000    199390.450000    1.000000  "
      ]
     },
     "metadata": {},
     "output_type": "display_data"
    },
    {
     "data": {
      "text/html": [
       "<div>\n",
       "<style scoped>\n",
       "    .dataframe tbody tr th:only-of-type {\n",
       "        vertical-align: middle;\n",
       "    }\n",
       "\n",
       "    .dataframe tbody tr th {\n",
       "        vertical-align: top;\n",
       "    }\n",
       "\n",
       "    .dataframe thead th {\n",
       "        text-align: right;\n",
       "    }\n",
       "</style>\n",
       "<table border=\"1\" class=\"dataframe\">\n",
       "  <thead>\n",
       "    <tr style=\"text-align: right;\">\n",
       "      <th></th>\n",
       "      <th>CustomerId</th>\n",
       "      <th>CreditScore</th>\n",
       "      <th>Age</th>\n",
       "      <th>Tenure</th>\n",
       "      <th>Balance</th>\n",
       "      <th>NumOfProducts</th>\n",
       "      <th>HasCrCard</th>\n",
       "      <th>IsActiveMember</th>\n",
       "      <th>EstimatedSalary</th>\n",
       "      <th>Exited</th>\n",
       "    </tr>\n",
       "  </thead>\n",
       "  <tbody>\n",
       "    <tr>\n",
       "      <th>count</th>\n",
       "      <td>3.820000e+02</td>\n",
       "      <td>382.000000</td>\n",
       "      <td>382.000000</td>\n",
       "      <td>382.0</td>\n",
       "      <td>382.000000</td>\n",
       "      <td>382.000000</td>\n",
       "      <td>382.000000</td>\n",
       "      <td>382.000000</td>\n",
       "      <td>382.000000</td>\n",
       "      <td>382.000000</td>\n",
       "    </tr>\n",
       "    <tr>\n",
       "      <th>mean</th>\n",
       "      <td>1.569618e+07</td>\n",
       "      <td>651.913613</td>\n",
       "      <td>39.306283</td>\n",
       "      <td>0.0</td>\n",
       "      <td>80135.307277</td>\n",
       "      <td>1.437173</td>\n",
       "      <td>0.651832</td>\n",
       "      <td>0.531414</td>\n",
       "      <td>99565.395157</td>\n",
       "      <td>0.235602</td>\n",
       "    </tr>\n",
       "    <tr>\n",
       "      <th>std</th>\n",
       "      <td>7.187497e+04</td>\n",
       "      <td>95.741781</td>\n",
       "      <td>10.418181</td>\n",
       "      <td>0.0</td>\n",
       "      <td>62233.212461</td>\n",
       "      <td>0.522442</td>\n",
       "      <td>0.477014</td>\n",
       "      <td>0.499667</td>\n",
       "      <td>57360.554103</td>\n",
       "      <td>0.424931</td>\n",
       "    </tr>\n",
       "    <tr>\n",
       "      <th>min</th>\n",
       "      <td>1.556647e+07</td>\n",
       "      <td>350.000000</td>\n",
       "      <td>19.000000</td>\n",
       "      <td>0.0</td>\n",
       "      <td>0.000000</td>\n",
       "      <td>1.000000</td>\n",
       "      <td>0.000000</td>\n",
       "      <td>0.000000</td>\n",
       "      <td>332.810000</td>\n",
       "      <td>0.000000</td>\n",
       "    </tr>\n",
       "    <tr>\n",
       "      <th>25%</th>\n",
       "      <td>1.563546e+07</td>\n",
       "      <td>592.250000</td>\n",
       "      <td>32.000000</td>\n",
       "      <td>0.0</td>\n",
       "      <td>0.000000</td>\n",
       "      <td>1.000000</td>\n",
       "      <td>0.000000</td>\n",
       "      <td>0.000000</td>\n",
       "      <td>47574.687500</td>\n",
       "      <td>0.000000</td>\n",
       "    </tr>\n",
       "    <tr>\n",
       "      <th>50%</th>\n",
       "      <td>1.569641e+07</td>\n",
       "      <td>653.000000</td>\n",
       "      <td>38.000000</td>\n",
       "      <td>0.0</td>\n",
       "      <td>101050.445000</td>\n",
       "      <td>1.000000</td>\n",
       "      <td>1.000000</td>\n",
       "      <td>1.000000</td>\n",
       "      <td>102160.510000</td>\n",
       "      <td>0.000000</td>\n",
       "    </tr>\n",
       "    <tr>\n",
       "      <th>75%</th>\n",
       "      <td>1.575880e+07</td>\n",
       "      <td>714.750000</td>\n",
       "      <td>44.750000</td>\n",
       "      <td>0.0</td>\n",
       "      <td>129638.762500</td>\n",
       "      <td>2.000000</td>\n",
       "      <td>1.000000</td>\n",
       "      <td>1.000000</td>\n",
       "      <td>149577.825000</td>\n",
       "      <td>0.000000</td>\n",
       "    </tr>\n",
       "    <tr>\n",
       "      <th>max</th>\n",
       "      <td>1.581553e+07</td>\n",
       "      <td>850.000000</td>\n",
       "      <td>79.000000</td>\n",
       "      <td>0.0</td>\n",
       "      <td>197041.800000</td>\n",
       "      <td>3.000000</td>\n",
       "      <td>1.000000</td>\n",
       "      <td>1.000000</td>\n",
       "      <td>199478.050000</td>\n",
       "      <td>1.000000</td>\n",
       "    </tr>\n",
       "  </tbody>\n",
       "</table>\n",
       "</div>"
      ],
      "text/plain": [
       "         CustomerId  CreditScore         Age  Tenure        Balance  \\\n",
       "count  3.820000e+02   382.000000  382.000000   382.0     382.000000   \n",
       "mean   1.569618e+07   651.913613   39.306283     0.0   80135.307277   \n",
       "std    7.187497e+04    95.741781   10.418181     0.0   62233.212461   \n",
       "min    1.556647e+07   350.000000   19.000000     0.0       0.000000   \n",
       "25%    1.563546e+07   592.250000   32.000000     0.0       0.000000   \n",
       "50%    1.569641e+07   653.000000   38.000000     0.0  101050.445000   \n",
       "75%    1.575880e+07   714.750000   44.750000     0.0  129638.762500   \n",
       "max    1.581553e+07   850.000000   79.000000     0.0  197041.800000   \n",
       "\n",
       "       NumOfProducts   HasCrCard  IsActiveMember  EstimatedSalary      Exited  \n",
       "count     382.000000  382.000000      382.000000       382.000000  382.000000  \n",
       "mean        1.437173    0.651832        0.531414     99565.395157    0.235602  \n",
       "std         0.522442    0.477014        0.499667     57360.554103    0.424931  \n",
       "min         1.000000    0.000000        0.000000       332.810000    0.000000  \n",
       "25%         1.000000    0.000000        0.000000     47574.687500    0.000000  \n",
       "50%         1.000000    1.000000        1.000000    102160.510000    0.000000  \n",
       "75%         2.000000    1.000000        1.000000    149577.825000    0.000000  \n",
       "max         3.000000    1.000000        1.000000    199478.050000    1.000000  "
      ]
     },
     "metadata": {},
     "output_type": "display_data"
    },
    {
     "data": {
      "text/html": [
       "<div>\n",
       "<style scoped>\n",
       "    .dataframe tbody tr th:only-of-type {\n",
       "        vertical-align: middle;\n",
       "    }\n",
       "\n",
       "    .dataframe tbody tr th {\n",
       "        vertical-align: top;\n",
       "    }\n",
       "\n",
       "    .dataframe thead th {\n",
       "        text-align: right;\n",
       "    }\n",
       "</style>\n",
       "<table border=\"1\" class=\"dataframe\">\n",
       "  <thead>\n",
       "    <tr style=\"text-align: right;\">\n",
       "      <th></th>\n",
       "      <th>CustomerId</th>\n",
       "      <th>CreditScore</th>\n",
       "      <th>Age</th>\n",
       "      <th>Tenure</th>\n",
       "      <th>Balance</th>\n",
       "      <th>NumOfProducts</th>\n",
       "      <th>HasCrCard</th>\n",
       "      <th>IsActiveMember</th>\n",
       "      <th>EstimatedSalary</th>\n",
       "      <th>Exited</th>\n",
       "    </tr>\n",
       "  </thead>\n",
       "  <tbody>\n",
       "    <tr>\n",
       "      <th>count</th>\n",
       "      <td>1.000000e+04</td>\n",
       "      <td>10000.000000</td>\n",
       "      <td>10000.000000</td>\n",
       "      <td>9091.000000</td>\n",
       "      <td>10000.000000</td>\n",
       "      <td>10000.000000</td>\n",
       "      <td>10000.00000</td>\n",
       "      <td>10000.000000</td>\n",
       "      <td>10000.000000</td>\n",
       "      <td>10000.000000</td>\n",
       "    </tr>\n",
       "    <tr>\n",
       "      <th>mean</th>\n",
       "      <td>1.569094e+07</td>\n",
       "      <td>650.528800</td>\n",
       "      <td>38.921800</td>\n",
       "      <td>4.997690</td>\n",
       "      <td>76485.889288</td>\n",
       "      <td>1.530200</td>\n",
       "      <td>0.70550</td>\n",
       "      <td>0.515100</td>\n",
       "      <td>100090.239881</td>\n",
       "      <td>0.203700</td>\n",
       "    </tr>\n",
       "    <tr>\n",
       "      <th>std</th>\n",
       "      <td>7.193619e+04</td>\n",
       "      <td>96.653299</td>\n",
       "      <td>10.487806</td>\n",
       "      <td>2.894723</td>\n",
       "      <td>62397.405202</td>\n",
       "      <td>0.581654</td>\n",
       "      <td>0.45584</td>\n",
       "      <td>0.499797</td>\n",
       "      <td>57510.492818</td>\n",
       "      <td>0.402769</td>\n",
       "    </tr>\n",
       "    <tr>\n",
       "      <th>min</th>\n",
       "      <td>1.556570e+07</td>\n",
       "      <td>350.000000</td>\n",
       "      <td>18.000000</td>\n",
       "      <td>0.000000</td>\n",
       "      <td>0.000000</td>\n",
       "      <td>1.000000</td>\n",
       "      <td>0.00000</td>\n",
       "      <td>0.000000</td>\n",
       "      <td>11.580000</td>\n",
       "      <td>0.000000</td>\n",
       "    </tr>\n",
       "    <tr>\n",
       "      <th>25%</th>\n",
       "      <td>1.562853e+07</td>\n",
       "      <td>584.000000</td>\n",
       "      <td>32.000000</td>\n",
       "      <td>2.000000</td>\n",
       "      <td>0.000000</td>\n",
       "      <td>1.000000</td>\n",
       "      <td>0.00000</td>\n",
       "      <td>0.000000</td>\n",
       "      <td>51002.110000</td>\n",
       "      <td>0.000000</td>\n",
       "    </tr>\n",
       "    <tr>\n",
       "      <th>50%</th>\n",
       "      <td>1.569074e+07</td>\n",
       "      <td>652.000000</td>\n",
       "      <td>37.000000</td>\n",
       "      <td>5.000000</td>\n",
       "      <td>97198.540000</td>\n",
       "      <td>1.000000</td>\n",
       "      <td>1.00000</td>\n",
       "      <td>1.000000</td>\n",
       "      <td>100193.915000</td>\n",
       "      <td>0.000000</td>\n",
       "    </tr>\n",
       "    <tr>\n",
       "      <th>75%</th>\n",
       "      <td>1.575323e+07</td>\n",
       "      <td>718.000000</td>\n",
       "      <td>44.000000</td>\n",
       "      <td>7.000000</td>\n",
       "      <td>127644.240000</td>\n",
       "      <td>2.000000</td>\n",
       "      <td>1.00000</td>\n",
       "      <td>1.000000</td>\n",
       "      <td>149388.247500</td>\n",
       "      <td>0.000000</td>\n",
       "    </tr>\n",
       "    <tr>\n",
       "      <th>max</th>\n",
       "      <td>1.581569e+07</td>\n",
       "      <td>850.000000</td>\n",
       "      <td>92.000000</td>\n",
       "      <td>10.000000</td>\n",
       "      <td>250898.090000</td>\n",
       "      <td>4.000000</td>\n",
       "      <td>1.00000</td>\n",
       "      <td>1.000000</td>\n",
       "      <td>199992.480000</td>\n",
       "      <td>1.000000</td>\n",
       "    </tr>\n",
       "  </tbody>\n",
       "</table>\n",
       "</div>"
      ],
      "text/plain": [
       "         CustomerId   CreditScore           Age       Tenure        Balance  \\\n",
       "count  1.000000e+04  10000.000000  10000.000000  9091.000000   10000.000000   \n",
       "mean   1.569094e+07    650.528800     38.921800     4.997690   76485.889288   \n",
       "std    7.193619e+04     96.653299     10.487806     2.894723   62397.405202   \n",
       "min    1.556570e+07    350.000000     18.000000     0.000000       0.000000   \n",
       "25%    1.562853e+07    584.000000     32.000000     2.000000       0.000000   \n",
       "50%    1.569074e+07    652.000000     37.000000     5.000000   97198.540000   \n",
       "75%    1.575323e+07    718.000000     44.000000     7.000000  127644.240000   \n",
       "max    1.581569e+07    850.000000     92.000000    10.000000  250898.090000   \n",
       "\n",
       "       NumOfProducts    HasCrCard  IsActiveMember  EstimatedSalary  \\\n",
       "count   10000.000000  10000.00000    10000.000000     10000.000000   \n",
       "mean        1.530200      0.70550        0.515100    100090.239881   \n",
       "std         0.581654      0.45584        0.499797     57510.492818   \n",
       "min         1.000000      0.00000        0.000000        11.580000   \n",
       "25%         1.000000      0.00000        0.000000     51002.110000   \n",
       "50%         1.000000      1.00000        1.000000    100193.915000   \n",
       "75%         2.000000      1.00000        1.000000    149388.247500   \n",
       "max         4.000000      1.00000        1.000000    199992.480000   \n",
       "\n",
       "             Exited  \n",
       "count  10000.000000  \n",
       "mean       0.203700  \n",
       "std        0.402769  \n",
       "min        0.000000  \n",
       "25%        0.000000  \n",
       "50%        0.000000  \n",
       "75%        0.000000  \n",
       "max        1.000000  "
      ]
     },
     "metadata": {},
     "output_type": "display_data"
    }
   ],
   "source": [
    "# Stats look pretty similar, assuming NaN is the same as 0 for Tenure.\n",
    "# Perhaps 0 means customers had a fixed deposit but it matured, leaving them without a FD, the same as NaN\n",
    "\n",
    "display(df.query('Tenure.isna()').describe())\n",
    "\n",
    "display(df.query('Tenure == 0').describe())\n",
    "\n",
    "display(df.describe())"
   ]
  },
  {
   "cell_type": "code",
   "execution_count": 13,
   "metadata": {},
   "outputs": [],
   "source": [
    "# Replace NaNs with 0\n",
    "\n",
    "df['Tenure'] = df['Tenure'].fillna(0)"
   ]
  },
  {
   "cell_type": "code",
   "execution_count": 14,
   "metadata": {},
   "outputs": [],
   "source": [
    "# Transform Gender using OHE, since there's only 2 we just keep one dummy and it'll work for any model  \n",
    "\n",
    "df = pd.get_dummies(data=df, columns=['Gender'], drop_first=True)\n",
    "df = df.rename(columns={'Gender_Male':'Male'})"
   ]
  },
  {
   "cell_type": "code",
   "execution_count": 15,
   "metadata": {},
   "outputs": [],
   "source": [
    "# Geography can use label encoding, since order doesn't matter\n",
    "\n",
    "encoder = LabelEncoder()\n",
    "df['GeoLabel'] = pd.DataFrame(encoder.fit_transform(df['Geography']), columns=['Geography'])"
   ]
  },
  {
   "cell_type": "code",
   "execution_count": 16,
   "metadata": {
    "scrolled": false
   },
   "outputs": [
    {
     "data": {
      "image/png": "[encoded data removed]",
      "text/plain": [
       "<Figure size 1080x360 with 1 Axes>"
      ]
     },
     "metadata": {
      "needs_background": "light"
     },
     "output_type": "display_data"
    },
    {
     "data": {
      "image/png": "[encoded data removed]",
      "text/plain": [
       "<Figure size 1080x360 with 1 Axes>"
      ]
     },
     "metadata": {
      "needs_background": "light"
     },
     "output_type": "display_data"
    },
    {
     "data": {
      "image/png": "[encoded data removed]",
      "text/plain": [
       "<Figure size 1080x360 with 1 Axes>"
      ]
     },
     "metadata": {
      "needs_background": "light"
     },
     "output_type": "display_data"
    },
    {
     "data": {
      "image/png": "[encoded data removed]",
      "text/plain": [
       "<Figure size 1080x360 with 1 Axes>"
      ]
     },
     "metadata": {
      "needs_background": "light"
     },
     "output_type": "display_data"
    },
    {
     "data": {
      "image/png": "[encoded data removed]",
      "text/plain": [
       "<Figure size 1080x360 with 1 Axes>"
      ]
     },
     "metadata": {
      "needs_background": "light"
     },
     "output_type": "display_data"
    },
    {
     "data": {
      "image/png": "[encoded data removed]",
      "text/plain": [
       "<Figure size 1080x360 with 1 Axes>"
      ]
     },
     "metadata": {
      "needs_background": "light"
     },
     "output_type": "display_data"
    }
   ],
   "source": [
    "# Take a look at distribution of the numerical columns\n",
    "\n",
    "num_cols = ['CreditScore', 'Age', 'Tenure', 'Balance', 'NumOfProducts', 'EstimatedSalary']\n",
    "\n",
    "for col in num_cols:\n",
    "    df[col].hist(bins=20, figsize=[15,5])\n",
    "    mean_value = df[col].mean()\n",
    "    median_value = df[col].median()\n",
    "    plt.axvline(mean_value, color='red', linestyle='--', linewidth=2)\n",
    "    plt.axvline(median_value, color='green', linestyle='--', linewidth=2)\n",
    "    plt.title(f'{col} Distribution')\n",
    "    plt.show()"
   ]
  },
  {
   "cell_type": "markdown",
   "metadata": {},
   "source": [
    "**Observations:**\n",
    "- This is going to be a classification problem since the target is a binary yes/no 1/0\n",
    "    - We can use Logistic Regression, Decision Trees, and Random Forest\n",
    "    - We will need to scale the numeric columns in num_cols since the scales are very different as seen in the describe() tables\n",
    "- We will likely have to upsample the amount of exited users to balance classes later on (0/1 is a 80/20 split roughly)\n",
    "- Distributions of the features vary, some uniform, left skew, normal, bimodal"
   ]
  },
  {
   "cell_type": "markdown",
   "metadata": {},
   "source": [
    "### Initial Modeling\n",
    "- In this section we will split the data, and model it without adjusting for class imbalances\n",
    "- Will use the classification models: Logistic Regression, Decision Tree and Random Forest\n",
    "- Used stratified splits. Non-stratified models did not product a 59% F1"
   ]
  },
  {
   "cell_type": "code",
   "execution_count": 17,
   "metadata": {},
   "outputs": [
    {
     "name": "stdout",
     "output_type": "stream",
     "text": [
      "(6000, 10)\n",
      "(2000, 10)\n",
      "(2000, 10)\n",
      "\n",
      "(6000,)\n",
      "(2000,)\n",
      "(2000,)\n"
     ]
    }
   ],
   "source": [
    "random_state=12345\n",
    "\n",
    "X = df.drop(['Exited', 'CustomerId', 'Geography'], axis=1)\n",
    "y = df['Exited']\n",
    "\n",
    "X_train, X_rest, y_train, y_rest = train_test_split(X, \n",
    "                                                    y, \n",
    "                                                    test_size=0.4, \n",
    "                                                    random_state=random_state,\n",
    "                                                    stratify=y\n",
    "                                                   )\n",
    "\n",
    "X_valid, X_test, y_valid, y_test = train_test_split(X_rest, \n",
    "                                                    y_rest, \n",
    "                                                    test_size=0.5, \n",
    "                                                    random_state=random_state,\n",
    "                                                    stratify=y_rest\n",
    "                                                   )\n",
    "\n",
    "print(X_train.shape)\n",
    "print(X_valid.shape)\n",
    "print(X_test.shape)\n",
    "print()\n",
    "print(y_train.shape)\n",
    "print(y_valid.shape)\n",
    "print(y_test.shape)"
   ]
  },
  {
   "cell_type": "code",
   "execution_count": 18,
   "metadata": {
    "scrolled": false
   },
   "outputs": [],
   "source": [
    "# Scale all the numeric columns\n",
    "\n",
    "pd.options.mode.chained_assignment = None\n",
    "\n",
    "scaler = StandardScaler()\n",
    "scaler.fit(X_train[num_cols])\n",
    "\n",
    "X_train.loc[:, num_cols] = scaler.transform(X_train[num_cols])\n",
    "X_valid.loc[:, num_cols] = scaler.transform(X_valid[num_cols])\n",
    "X_test.loc[:, num_cols] = scaler.transform(X_test[num_cols])"
   ]
  },
  {
   "cell_type": "code",
   "execution_count": 19,
   "metadata": {},
   "outputs": [],
   "source": [
    "def print_eval_metrics(y_true, y_pred):\n",
    "    accuracy = accuracy_score(y_true, y_pred)\n",
    "    recall = recall_score(y_true, y_pred)\n",
    "    precision = precision_score(y_true, y_pred)\n",
    "    f1 = f1_score(y_true, y_pred)\n",
    "    \n",
    "    print('Accuracy:', f'{accuracy:.1%}')\n",
    "    print('Recall:', f'{recall:.1%}')\n",
    "    print('Precision:', f'{precision:.1%}')\n",
    "    print('F1 Score:', f'{f1:.1%}')    "
   ]
  },
  {
   "cell_type": "code",
   "execution_count": 20,
   "metadata": {},
   "outputs": [],
   "source": [
    "def auc_score(model, features, target):\n",
    "    probabilities = model.predict_proba(features)\n",
    "    probabilities_one = probabilities[:, 1]\n",
    "    auc_score = roc_auc_score(target, probabilities_one)\n",
    "    print(auc_score)"
   ]
  },
  {
   "cell_type": "code",
   "execution_count": 21,
   "metadata": {},
   "outputs": [],
   "source": [
    "def print_results_distribution(y_pred):\n",
    "    num = pd.Series(y_pred).value_counts()\n",
    "    pct = pd.Series(y_pred).value_counts(normalize=True)\n",
    "    print(pd.concat([num, pct], axis=1))"
   ]
  },
  {
   "cell_type": "code",
   "execution_count": 22,
   "metadata": {},
   "outputs": [],
   "source": [
    "def print_all_results(model, features, target, predictions):\n",
    "    print('Model Scores:')\n",
    "    print_eval_metrics(target, predictions)\n",
    "    print()\n",
    "    print('Prediction Distribution:')\n",
    "    print_results_distribution(predictions)\n",
    "    print()\n",
    "    print('AUC Score:')\n",
    "    auc_score(model, features, target)\n",
    "    print()\n",
    "    print('Confusion Matrix:')\n",
    "    print(confusion_matrix(target, predictions))"
   ]
  },
  {
   "cell_type": "code",
   "execution_count": 23,
   "metadata": {},
   "outputs": [
    {
     "name": "stdout",
     "output_type": "stream",
     "text": [
      "Training Set Results:\n",
      "\n",
      "Model Scores:\n",
      "Accuracy: 81.2%\n",
      "Recall: 18.6%\n",
      "Precision: 63.6%\n",
      "F1 Score: 28.8%\n",
      "\n",
      "Prediction Distribution:\n",
      "      0       1\n",
      "0  5643  0.9405\n",
      "1   357  0.0595\n",
      "\n",
      "AUC Score:\n",
      "0.7516680037186259\n",
      "\n",
      "Confusion Matrix:\n",
      "[[4648  130]\n",
      " [ 995  227]]\n"
     ]
    }
   ],
   "source": [
    "# Baseline modeling without up/down sampling\n",
    "\n",
    "model0 = LogisticRegression(random_state=random_state)\n",
    "model0.fit(X_train, y_train)\n",
    "\n",
    "model0_train_y = model0.predict(X_train)\n",
    "\n",
    "print('Training Set Results:')\n",
    "print()\n",
    "print_all_results(model0, X_train, y_train, model0_train_y)"
   ]
  },
  {
   "cell_type": "code",
   "execution_count": 24,
   "metadata": {},
   "outputs": [
    {
     "name": "stdout",
     "output_type": "stream",
     "text": [
      "Validation Set Results:\n",
      "\n",
      "Model Scores:\n",
      "Accuracy: 80.2%\n",
      "Recall: 15.7%\n",
      "Precision: 54.7%\n",
      "F1 Score: 24.4%\n",
      "\n",
      "Prediction Distribution:\n",
      "      0       1\n",
      "0  1883  0.9415\n",
      "1   117  0.0585\n",
      "\n",
      "AUC Score:\n",
      "0.7737615774953197\n",
      "\n",
      "Confusion Matrix:\n",
      "[[1539   53]\n",
      " [ 344   64]]\n"
     ]
    }
   ],
   "source": [
    "model0_valid_y = model0.predict(X_valid)\n",
    "\n",
    "print('Validation Set Results:')\n",
    "print()\n",
    "print_all_results(model0, X_valid, y_valid, model0_valid_y)"
   ]
  },
  {
   "cell_type": "markdown",
   "metadata": {},
   "source": [
    "**Logistic Regression:** \n",
    "- The model is massively underpredicting churns, way more than the actual data\n",
    "- The F1 score is also really low, mostly due to recall since the model is underpredicting churns\n",
    "- AUC score is fairly high at 75% for the validation set"
   ]
  },
  {
   "cell_type": "code",
   "execution_count": 25,
   "metadata": {},
   "outputs": [
    {
     "name": "stdout",
     "output_type": "stream",
     "text": [
      "1 max depth accuracy: 79.6%\n",
      "2 max depth accuracy: 83.5%\n",
      "3 max depth accuracy: 84.0%\n",
      "4 max depth accuracy: 84.9%\n",
      "5 max depth accuracy: 85.7%\n",
      "6 max depth accuracy: 85.6%\n",
      "7 max depth accuracy: 85.7%\n",
      "8 max depth accuracy: 85.8%\n",
      "9 max depth accuracy: 85.0%\n",
      "10 max depth accuracy: 84.4%\n",
      "Accuracy of the best model: 85.8%\n",
      "Depth of the best model: 8\n"
     ]
    }
   ],
   "source": [
    "# iterate to find the best depth \n",
    "\n",
    "best_tree_result = 0\n",
    "best_tree_depth = 0\n",
    "\n",
    "for i in range(1, 11):\n",
    "    model = DecisionTreeClassifier(random_state=random_state, max_depth=i)\n",
    "    model.fit(X_train, y_train)\n",
    "    score = model.score(X_valid, y_valid)\n",
    "    print(i, 'max depth accuracy:', f'{score:.1%}')\n",
    "    if score > best_tree_result:\n",
    "        best_tree_result = score\n",
    "        best_tree_depth = i\n",
    "\n",
    "print(\"Accuracy of the best model:\", f'{best_tree_result:.1%}')\n",
    "print(\"Depth of the best model:\", best_tree_depth)"
   ]
  },
  {
   "cell_type": "code",
   "execution_count": 26,
   "metadata": {},
   "outputs": [
    {
     "name": "stdout",
     "output_type": "stream",
     "text": [
      "Training Set Results:\n",
      "\n",
      "Model Scores:\n",
      "Accuracy: 87.7%\n",
      "Recall: 51.9%\n",
      "Precision: 81.1%\n",
      "F1 Score: 63.3%\n",
      "\n",
      "Prediction Distribution:\n",
      "      0         1\n",
      "0  5218  0.869667\n",
      "1   782  0.130333\n",
      "\n",
      "AUC Score:\n",
      "0.8918817082385923\n",
      "\n",
      "Confusion Matrix:\n",
      "[[4630  148]\n",
      " [ 588  634]]\n"
     ]
    }
   ],
   "source": [
    "# Call and run the Decision Tree model\n",
    "\n",
    "model1 = DecisionTreeClassifier(random_state=random_state, max_depth=best_tree_depth)\n",
    "model1.fit(X_train, y_train)\n",
    "\n",
    "model1_train_y = model1.predict(X_train)\n",
    "\n",
    "print('Training Set Results:')\n",
    "print()\n",
    "print_all_results(model1, X_train, y_train, model1_train_y)"
   ]
  },
  {
   "cell_type": "code",
   "execution_count": 27,
   "metadata": {},
   "outputs": [
    {
     "name": "stdout",
     "output_type": "stream",
     "text": [
      "Validation Set Results:\n",
      "\n",
      "Model Scores:\n",
      "Accuracy: 85.8%\n",
      "Recall: 50.7%\n",
      "Precision: 71.1%\n",
      "F1 Score: 59.2%\n",
      "\n",
      "Prediction Distribution:\n",
      "      0       1\n",
      "0  1709  0.8545\n",
      "1   291  0.1455\n",
      "\n",
      "AUC Score:\n",
      "0.8061685572470194\n",
      "\n",
      "Confusion Matrix:\n",
      "[[1508   84]\n",
      " [ 201  207]]\n"
     ]
    }
   ],
   "source": [
    "model1_valid_y = model1.predict(X_valid)\n",
    "\n",
    "print('Validation Set Results:')\n",
    "print()\n",
    "print_all_results(model1, X_valid, y_valid, model1_valid_y)"
   ]
  },
  {
   "cell_type": "markdown",
   "metadata": {},
   "source": [
    "**Decision Tree:** \n",
    "- This model is still underpredicting churns, though it does better than Log Regression and has a better F1\n",
    "- Recall and F1 are better than the baseline Log Regression model, but still low \n",
    "- Score of validation set is similar to training \n",
    "- AUC score is higher than the baseline model at 82%"
   ]
  },
  {
   "cell_type": "code",
   "execution_count": 28,
   "metadata": {},
   "outputs": [
    {
     "name": "stdout",
     "output_type": "stream",
     "text": [
      "Accuracy of the best model: 86.4%\n",
      "Estimators in the best model: 10\n",
      "Depth of the best model: 9\n"
     ]
    }
   ],
   "source": [
    "# Iterative loop to find ideal n_estimators and max_depth\n",
    "\n",
    "best_result = 0\n",
    "best_est = 0\n",
    "best_depth = 0\n",
    "\n",
    "for i in range(1, 11):\n",
    "    for n in range(1, 11):\n",
    "        model = RandomForestClassifier(random_state=random_state, n_estimators=i, max_depth=n)\n",
    "        model.fit(X_train, y_train)\n",
    "        score = model.score(X_valid, y_valid)\n",
    "        if score > best_result:\n",
    "            best_result = score\n",
    "            best_est = i\n",
    "            best_depth = n\n",
    "\n",
    "print(\"Accuracy of the best model:\", f'{best_result:.1%}')\n",
    "print(\"Estimators in the best model:\", best_est)\n",
    "print(\"Depth of the best model:\", best_depth)"
   ]
  },
  {
   "cell_type": "code",
   "execution_count": 29,
   "metadata": {},
   "outputs": [
    {
     "name": "stdout",
     "output_type": "stream",
     "text": [
      "Training Set Results:\n",
      "\n",
      "Model Scores:\n",
      "Accuracy: 98.3%\n",
      "Recall: 92.0%\n",
      "Precision: 99.6%\n",
      "F1 Score: 95.7%\n",
      "\n",
      "Prediction Distribution:\n",
      "      0      1\n",
      "0  4872  0.812\n",
      "1  1128  0.188\n",
      "\n",
      "AUC Score:\n",
      "0.9994105724614796\n",
      "\n",
      "Confusion Matrix:\n",
      "[[4774    4]\n",
      " [  98 1124]]\n"
     ]
    }
   ],
   "source": [
    "# Random Forest on unadjusted training data\n",
    "\n",
    "model2 = RandomForestClassifier(random_state=random_state, n_estimators=best_est)\n",
    "model2.fit(X_train, y_train)\n",
    "\n",
    "model2_train_y = model2.predict(X_train)\n",
    "\n",
    "print('Training Set Results:')\n",
    "print()\n",
    "print_all_results(model2, X_train, y_train, model2_train_y)"
   ]
  },
  {
   "cell_type": "markdown",
   "metadata": {},
   "source": [
    "**Random Forest Training Results:**\n",
    "- These results look pretty good, but it could be overfit. Let's test it on a validation set. "
   ]
  },
  {
   "cell_type": "code",
   "execution_count": 30,
   "metadata": {},
   "outputs": [
    {
     "name": "stdout",
     "output_type": "stream",
     "text": [
      "Validation Set Results:\n",
      "\n",
      "Model Scores:\n",
      "Accuracy: 85.5%\n",
      "Recall: 47.1%\n",
      "Precision: 72.5%\n",
      "F1 Score: 57.1%\n",
      "\n",
      "Prediction Distribution:\n",
      "      0       1\n",
      "0  1735  0.8675\n",
      "1   265  0.1325\n",
      "\n",
      "AUC Score:\n",
      "0.829912429796039\n",
      "\n",
      "Confusion Matrix:\n",
      "[[1519   73]\n",
      " [ 216  192]]\n"
     ]
    }
   ],
   "source": [
    "model2_valid_y = model2.predict(X_valid)\n",
    "\n",
    "print('Validation Set Results:')\n",
    "print()\n",
    "print_all_results(model2, X_valid, y_valid, model2_valid_y)"
   ]
  },
  {
   "cell_type": "markdown",
   "metadata": {},
   "source": [
    "**Random Forest Validation Results:**\n",
    "- The validation set did much worse espectially in terms of recall\n",
    "- This suggests that the model was overfit\n",
    "- AUC was near 1 in the training and came down to 81% for the validation set "
   ]
  },
  {
   "cell_type": "code",
   "execution_count": 31,
   "metadata": {},
   "outputs": [
    {
     "name": "stdout",
     "output_type": "stream",
     "text": [
      "Best Params: {'criterion': 'gini', 'max_depth': 10, 'n_estimators': 10}\n",
      "Best Score 0.8603999999999999\n"
     ]
    }
   ],
   "source": [
    "# Using GridSearchCV to do the same parameter tuning \n",
    "\n",
    "param_grid = {\n",
    "    'n_estimators': np.arange(1,11,1),\n",
    "    'max_depth': np.arange(1,11,1),\n",
    "    'criterion': ['gini', 'entropy']\n",
    "}\n",
    "\n",
    "rf = RandomForestClassifier(random_state=random_state, n_estimators=i, max_depth=n)\n",
    "grid_search = GridSearchCV(estimator=rf, param_grid=param_grid, cv=5)\n",
    "grid_search.fit(X, y)\n",
    "\n",
    "best_params = grid_search.best_params_\n",
    "best_score = grid_search.best_score_\n",
    "\n",
    "print('Best Params:', best_params)\n",
    "print('Best Score', best_score)"
   ]
  },
  {
   "cell_type": "code",
   "execution_count": 32,
   "metadata": {},
   "outputs": [
    {
     "name": "stdout",
     "output_type": "stream",
     "text": [
      "Training Set Results:\n",
      "\n",
      "Model Scores:\n",
      "Accuracy: 90.4%\n",
      "Recall: 56.3%\n",
      "Precision: 94.1%\n",
      "F1 Score: 70.5%\n",
      "\n",
      "Prediction Distribution:\n",
      "      0         1\n",
      "0  5269  0.878167\n",
      "1   731  0.121833\n",
      "\n",
      "AUC Score:\n",
      "0.948868038794831\n",
      "\n",
      "Confusion Matrix:\n",
      "[[4735   43]\n",
      " [ 534  688]]\n"
     ]
    }
   ],
   "source": [
    "# Refitting model 2 to see if these parameters do better (increased max depth from 7 to 10)\n",
    "\n",
    "model2b = RandomForestClassifier(**best_params, random_state=random_state)\n",
    "model2b.fit(X_train, y_train)\n",
    "\n",
    "model2b_train_y = model2b.predict(X_train)\n",
    "\n",
    "print('Training Set Results:')\n",
    "print()\n",
    "print_all_results(model2b, X_train, y_train, model2b_train_y)"
   ]
  },
  {
   "cell_type": "code",
   "execution_count": 33,
   "metadata": {},
   "outputs": [
    {
     "name": "stdout",
     "output_type": "stream",
     "text": [
      "Validation Set Results:\n",
      "\n",
      "Model Scores:\n",
      "Accuracy: 85.7%\n",
      "Recall: 44.6%\n",
      "Precision: 75.2%\n",
      "F1 Score: 56.0%\n",
      "\n",
      "Prediction Distribution:\n",
      "      0      1\n",
      "0  1758  0.879\n",
      "1   242  0.121\n",
      "\n",
      "AUC Score:\n",
      "0.8571926729234407\n",
      "\n",
      "Confusion Matrix:\n",
      "[[1532   60]\n",
      " [ 226  182]]\n"
     ]
    }
   ],
   "source": [
    "model2b_valid_y = model2b.predict(X_valid)\n",
    "\n",
    "print('Validation Set Results:')\n",
    "print()\n",
    "print_all_results(model2b, X_valid, y_valid, model2b_valid_y)"
   ]
  },
  {
   "cell_type": "markdown",
   "metadata": {},
   "source": [
    "**Random Forest - Adjusted Parameters:** \n",
    "- Is pretty close to actual distribution and accuracy and F1 were high in the training set \n",
    "- Using the GridSearchCV params makes the scores slightly better \n",
    "- Will use model2b best_params for Random Forest"
   ]
  },
  {
   "cell_type": "code",
   "execution_count": 34,
   "metadata": {},
   "outputs": [
    {
     "data": {
      "text/html": [
       "<style  type=\"text/css\" >\n",
       "</style><table id=\"T_f8a4a_\" ><thead>    <tr>        <th class=\"col_heading level0 col0\" >Metrics</th>        <th class=\"col_heading level0 col1\" >Log Regression</th>        <th class=\"col_heading level0 col2\" >Decision Tree</th>        <th class=\"col_heading level0 col3\" >Random Forest</th>    </tr></thead><tbody>\n",
       "                <tr>\n",
       "                                <td id=\"T_f8a4a_row0_col0\" class=\"data row0 col0\" >Accuracy</td>\n",
       "                        <td id=\"T_f8a4a_row0_col1\" class=\"data row0 col1\" >80%</td>\n",
       "                        <td id=\"T_f8a4a_row0_col2\" class=\"data row0 col2\" >86%</td>\n",
       "                        <td id=\"T_f8a4a_row0_col3\" class=\"data row0 col3\" >86%</td>\n",
       "            </tr>\n",
       "            <tr>\n",
       "                                <td id=\"T_f8a4a_row1_col0\" class=\"data row1 col0\" >Recall</td>\n",
       "                        <td id=\"T_f8a4a_row1_col1\" class=\"data row1 col1\" >16%</td>\n",
       "                        <td id=\"T_f8a4a_row1_col2\" class=\"data row1 col2\" >51%</td>\n",
       "                        <td id=\"T_f8a4a_row1_col3\" class=\"data row1 col3\" >45%</td>\n",
       "            </tr>\n",
       "            <tr>\n",
       "                                <td id=\"T_f8a4a_row2_col0\" class=\"data row2 col0\" >Precision</td>\n",
       "                        <td id=\"T_f8a4a_row2_col1\" class=\"data row2 col1\" >55%</td>\n",
       "                        <td id=\"T_f8a4a_row2_col2\" class=\"data row2 col2\" >71%</td>\n",
       "                        <td id=\"T_f8a4a_row2_col3\" class=\"data row2 col3\" >75%</td>\n",
       "            </tr>\n",
       "            <tr>\n",
       "                                <td id=\"T_f8a4a_row3_col0\" class=\"data row3 col0\" >F1 Score</td>\n",
       "                        <td id=\"T_f8a4a_row3_col1\" class=\"data row3 col1\" >24%</td>\n",
       "                        <td id=\"T_f8a4a_row3_col2\" class=\"data row3 col2\" >59%</td>\n",
       "                        <td id=\"T_f8a4a_row3_col3\" class=\"data row3 col3\" >56%</td>\n",
       "            </tr>\n",
       "            <tr>\n",
       "                                <td id=\"T_f8a4a_row4_col0\" class=\"data row4 col0\" >AUC-ROC Score</td>\n",
       "                        <td id=\"T_f8a4a_row4_col1\" class=\"data row4 col1\" >77%</td>\n",
       "                        <td id=\"T_f8a4a_row4_col2\" class=\"data row4 col2\" >81%</td>\n",
       "                        <td id=\"T_f8a4a_row4_col3\" class=\"data row4 col3\" >86%</td>\n",
       "            </tr>\n",
       "    </tbody></table>"
      ],
      "text/plain": [
       "<pandas.io.formats.style.Styler at 0x7f729c4471f0>"
      ]
     },
     "execution_count": 34,
     "metadata": {},
     "output_type": "execute_result"
    }
   ],
   "source": [
    "# Comparing scores from all three models\n",
    "\n",
    "model_dict = {\n",
    "    'model0_valid_y': 'Log Regression',\n",
    "    'model1_valid_y': 'Decision Tree',\n",
    "    'model2b_valid_y': 'Random Forest'\n",
    "}\n",
    "\n",
    "auc_dict = {\n",
    "    'model0_valid_y': 'model0',\n",
    "    'model1_valid_y': 'model1',\n",
    "    'model2b_valid_y': 'model2b'\n",
    "}\n",
    "\n",
    "predictions = ['model0_valid_y', 'model1_valid_y', 'model2b_valid_y']\n",
    "    \n",
    "score_df = pd.DataFrame()\n",
    "score_df['Metrics'] = ['Accuracy', 'Recall', 'Precision', 'F1 Score', 'AUC-ROC Score']\n",
    "\n",
    "for prediction in predictions:\n",
    "    model_name = model_dict[prediction]\n",
    "    accuracy = f'{accuracy_score(y_valid, eval(prediction)):.0%}'\n",
    "    recall = f'{recall_score(y_valid, eval(prediction)):.0%}'\n",
    "    precision = f'{precision_score(y_valid, eval(prediction)):.0%}'\n",
    "    f1 = f'{f1_score(y_valid, eval(prediction)):.0%}'\n",
    "    auc = f'{roc_auc_score(y_valid, eval(auc_dict[prediction]).predict_proba(X_valid)[:, 1]):.0%}'\n",
    "    metrics = [accuracy, recall, precision, f1, auc]\n",
    "    score_df[model_name] = metrics\n",
    "    \n",
    "score_df = score_df.reset_index(drop=True)\n",
    "score_df = score_df.style.highlight_max().hide_index()\n",
    "score_df"
   ]
  },
  {
   "cell_type": "markdown",
   "metadata": {},
   "source": [
    "**Final Observations:**\n",
    "- Random Forest performs the best out of all the metrics on the validation set\n",
    "- Decision tree also performs similarly but slightly worse\n",
    "- F1 score for random forest is still below 59%"
   ]
  },
  {
   "cell_type": "markdown",
   "metadata": {},
   "source": [
    "### Imbalance Adjusted Modeling - Class Weight Balancing\n",
    "- In this section we will adjust the class imbalance\n",
    "    - Using class_weight='balanced' for the Log Regression\n",
    "    - Upsample churns"
   ]
  },
  {
   "cell_type": "code",
   "execution_count": 35,
   "metadata": {},
   "outputs": [
    {
     "name": "stdout",
     "output_type": "stream",
     "text": [
      "Training Set Results:\n",
      "\n",
      "Model Scores:\n",
      "Accuracy: 70.0%\n",
      "Recall: 67.4%\n",
      "Precision: 37.0%\n",
      "F1 Score: 47.8%\n",
      "\n",
      "Prediction Distribution:\n",
      "      0       1\n",
      "0  3771  0.6285\n",
      "1  2229  0.3715\n",
      "\n",
      "AUC Score:\n",
      "0.755289861675067\n",
      "\n",
      "Confusion Matrix:\n",
      "[[3373 1405]\n",
      " [ 398  824]]\n",
      "\n",
      "\n",
      "Validation Set Results:\n",
      "\n",
      "Model Scores:\n",
      "Accuracy: 71.3%\n",
      "Recall: 72.3%\n",
      "Precision: 39.0%\n",
      "F1 Score: 50.7%\n",
      "\n",
      "Prediction Distribution:\n",
      "      0      1\n",
      "0  1244  0.622\n",
      "1   756  0.378\n",
      "\n",
      "AUC Score:\n",
      "0.780475601044438\n",
      "\n",
      "Confusion Matrix:\n",
      "[[1131  461]\n",
      " [ 113  295]]\n"
     ]
    }
   ],
   "source": [
    "# Baseline model with class balancing param\n",
    "\n",
    "model0_bal = LogisticRegression(random_state=random_state, class_weight='balanced')\n",
    "model0_bal.fit(X_train, y_train)\n",
    "\n",
    "model0_bal_train_y = model0_bal.predict(X_train)\n",
    "model0_bal_valid_y = model0_bal.predict(X_valid)\n",
    "\n",
    "print('Training Set Results:')\n",
    "print()\n",
    "print_all_results(model0_bal, X_train, y_train, model0_bal_train_y)\n",
    "\n",
    "print()\n",
    "print()\n",
    "\n",
    "print('Validation Set Results:')\n",
    "print()\n",
    "print_all_results(model0_bal, X_valid, y_valid, model0_bal_valid_y)"
   ]
  },
  {
   "cell_type": "markdown",
   "metadata": {},
   "source": [
    "**Logistic Regression - Balanced Class Weights:**\n",
    "- The balanced class weight model trades off some accuracy and a lot of precision for a higher recall score\n",
    "- It has the opposite problem now, where it is overpredicting churns"
   ]
  },
  {
   "cell_type": "code",
   "execution_count": 36,
   "metadata": {},
   "outputs": [
    {
     "name": "stdout",
     "output_type": "stream",
     "text": [
      "Training Set Results:\n",
      "\n",
      "Model Scores:\n",
      "Accuracy: 80.3%\n",
      "Recall: 84.6%\n",
      "Precision: 50.9%\n",
      "F1 Score: 63.6%\n",
      "\n",
      "Prediction Distribution:\n",
      "      0         1\n",
      "0  3970  0.661667\n",
      "1  2030  0.338333\n",
      "\n",
      "AUC Score:\n",
      "0.9080443371453587\n",
      "\n",
      "Confusion Matrix:\n",
      "[[3782  996]\n",
      " [ 188 1034]]\n",
      "\n",
      "\n",
      "Validation Set Results:\n",
      "\n",
      "Model Scores:\n",
      "Accuracy: 75.5%\n",
      "Recall: 74.3%\n",
      "Precision: 44.0%\n",
      "F1 Score: 55.3%\n",
      "\n",
      "Prediction Distribution:\n",
      "      0      1\n",
      "0  1312  0.656\n",
      "1   688  0.344\n",
      "\n",
      "AUC Score:\n",
      "0.8037352818011627\n",
      "\n",
      "Confusion Matrix:\n",
      "[[1207  385]\n",
      " [ 105  303]]\n"
     ]
    }
   ],
   "source": [
    "# Baseline model with class balancing param\n",
    "\n",
    "model1_bal = DecisionTreeClassifier(random_state=random_state, max_depth=best_tree_depth, class_weight='balanced')\n",
    "model1_bal.fit(X_train, y_train)\n",
    "\n",
    "model1_bal_train_y = model1_bal.predict(X_train)\n",
    "model1_bal_valid_y = model1_bal.predict(X_valid)\n",
    "\n",
    "print('Training Set Results:')\n",
    "print()\n",
    "print_all_results(model1_bal, X_train, y_train, model1_bal_train_y)\n",
    "\n",
    "print()\n",
    "print()\n",
    "\n",
    "print('Validation Set Results:')\n",
    "print()\n",
    "print_all_results(model1_bal, X_valid, y_valid, model1_bal_valid_y)"
   ]
  },
  {
   "cell_type": "markdown",
   "metadata": {},
   "source": [
    "**Decision Tree - Balanced Class Weights:**\n",
    "- The model only slightly outperforms the baseline log regression\n",
    "- Has a much higher recall due to overpredicting churns, but lower precision as a result \n",
    "- From a business perspective, it might be worth the cost to have higher recall and lower precision to keep customers (might be worth the cost of some unneeded retention incentives if we still increase the number of retentions)"
   ]
  },
  {
   "cell_type": "code",
   "execution_count": 37,
   "metadata": {},
   "outputs": [
    {
     "name": "stdout",
     "output_type": "stream",
     "text": [
      "Training Set Results:\n",
      "\n",
      "Model Scores:\n",
      "Accuracy: 89.4%\n",
      "Recall: 81.6%\n",
      "Precision: 70.9%\n",
      "F1 Score: 75.9%\n",
      "\n",
      "Prediction Distribution:\n",
      "      0         1\n",
      "0  4594  0.765667\n",
      "1  1406  0.234333\n",
      "\n",
      "AUC Score:\n",
      "0.9529179874479252\n",
      "\n",
      "Confusion Matrix:\n",
      "[[4369  409]\n",
      " [ 225  997]]\n",
      "\n",
      "\n",
      "Validation Set Results:\n",
      "\n",
      "Model Scores:\n",
      "Accuracy: 83.8%\n",
      "Recall: 67.6%\n",
      "Precision: 59.0%\n",
      "F1 Score: 63.0%\n",
      "\n",
      "Prediction Distribution:\n",
      "      0      1\n",
      "0  1532  0.766\n",
      "1   468  0.234\n",
      "\n",
      "AUC Score:\n",
      "0.8565298921075968\n",
      "\n",
      "Confusion Matrix:\n",
      "[[1400  192]\n",
      " [ 132  276]]\n"
     ]
    }
   ],
   "source": [
    "# Baseline model with class balancing param\n",
    "\n",
    "model2_bal = RandomForestClassifier(**best_params, random_state=random_state, class_weight='balanced')\n",
    "model2_bal.fit(X_train, y_train)\n",
    "\n",
    "model2_bal_train_y = model2_bal.predict(X_train)\n",
    "model2_bal_valid_y = model2_bal.predict(X_valid)\n",
    "\n",
    "print('Training Set Results:')\n",
    "print()\n",
    "print_all_results(model2_bal, X_train, y_train, model2_bal_train_y)\n",
    "\n",
    "print()\n",
    "print()\n",
    "\n",
    "print('Validation Set Results:')\n",
    "print()\n",
    "print_all_results(model2_bal, X_valid, y_valid, model2_bal_valid_y)"
   ]
  },
  {
   "cell_type": "markdown",
   "metadata": {},
   "source": [
    "**Random Forest - Balanced Class Weights:**\n",
    "- This model seems to perform the best so far\n",
    "- All scores except recall outperform the baseline model \n",
    "- F1 is close to 59% threshold"
   ]
  },
  {
   "cell_type": "code",
   "execution_count": 38,
   "metadata": {},
   "outputs": [
    {
     "data": {
      "text/html": [
       "<style  type=\"text/css\" >\n",
       "</style><table id=\"T_2d5a3_\" ><thead>    <tr>        <th class=\"col_heading level0 col0\" >Metrics</th>        <th class=\"col_heading level0 col1\" >Log Regression</th>        <th class=\"col_heading level0 col2\" >Decision Tree</th>        <th class=\"col_heading level0 col3\" >Random Forest</th>    </tr></thead><tbody>\n",
       "                <tr>\n",
       "                                <td id=\"T_2d5a3_row0_col0\" class=\"data row0 col0\" >Accuracy</td>\n",
       "                        <td id=\"T_2d5a3_row0_col1\" class=\"data row0 col1\" >71%</td>\n",
       "                        <td id=\"T_2d5a3_row0_col2\" class=\"data row0 col2\" >76%</td>\n",
       "                        <td id=\"T_2d5a3_row0_col3\" class=\"data row0 col3\" >84%</td>\n",
       "            </tr>\n",
       "            <tr>\n",
       "                                <td id=\"T_2d5a3_row1_col0\" class=\"data row1 col0\" >Recall</td>\n",
       "                        <td id=\"T_2d5a3_row1_col1\" class=\"data row1 col1\" >72%</td>\n",
       "                        <td id=\"T_2d5a3_row1_col2\" class=\"data row1 col2\" >74%</td>\n",
       "                        <td id=\"T_2d5a3_row1_col3\" class=\"data row1 col3\" >68%</td>\n",
       "            </tr>\n",
       "            <tr>\n",
       "                                <td id=\"T_2d5a3_row2_col0\" class=\"data row2 col0\" >Precision</td>\n",
       "                        <td id=\"T_2d5a3_row2_col1\" class=\"data row2 col1\" >39%</td>\n",
       "                        <td id=\"T_2d5a3_row2_col2\" class=\"data row2 col2\" >44%</td>\n",
       "                        <td id=\"T_2d5a3_row2_col3\" class=\"data row2 col3\" >59%</td>\n",
       "            </tr>\n",
       "            <tr>\n",
       "                                <td id=\"T_2d5a3_row3_col0\" class=\"data row3 col0\" >F1 Score</td>\n",
       "                        <td id=\"T_2d5a3_row3_col1\" class=\"data row3 col1\" >51%</td>\n",
       "                        <td id=\"T_2d5a3_row3_col2\" class=\"data row3 col2\" >55%</td>\n",
       "                        <td id=\"T_2d5a3_row3_col3\" class=\"data row3 col3\" >63%</td>\n",
       "            </tr>\n",
       "            <tr>\n",
       "                                <td id=\"T_2d5a3_row4_col0\" class=\"data row4 col0\" >AUC-ROC Score</td>\n",
       "                        <td id=\"T_2d5a3_row4_col1\" class=\"data row4 col1\" >78%</td>\n",
       "                        <td id=\"T_2d5a3_row4_col2\" class=\"data row4 col2\" >80%</td>\n",
       "                        <td id=\"T_2d5a3_row4_col3\" class=\"data row4 col3\" >86%</td>\n",
       "            </tr>\n",
       "    </tbody></table>"
      ],
      "text/plain": [
       "<pandas.io.formats.style.Styler at 0x7f729c170cd0>"
      ]
     },
     "execution_count": 38,
     "metadata": {},
     "output_type": "execute_result"
    }
   ],
   "source": [
    "# Comparing scores from all three models\n",
    "\n",
    "model_dict = {\n",
    "    'model0_bal_valid_y': 'Log Regression',\n",
    "    'model1_bal_valid_y': 'Decision Tree',\n",
    "    'model2_bal_valid_y': 'Random Forest'\n",
    "}\n",
    "\n",
    "auc_dict = {\n",
    "    'model0_bal_valid_y': 'model0_bal',\n",
    "    'model1_bal_valid_y': 'model1_bal',\n",
    "    'model2_bal_valid_y': 'model2_bal'\n",
    "}\n",
    "\n",
    "train_predictions = ['model0_bal_valid_y', 'model1_bal_valid_y', 'model2_bal_valid_y']\n",
    "    \n",
    "bal_score_df = pd.DataFrame()\n",
    "bal_score_df['Metrics'] = ['Accuracy', 'Recall', 'Precision', 'F1 Score', 'AUC-ROC Score']\n",
    "\n",
    "for prediction in train_predictions:\n",
    "    model_name = model_dict[prediction]\n",
    "    accuracy = f'{accuracy_score(y_valid, eval(prediction)):.0%}'\n",
    "    recall = f'{recall_score(y_valid, eval(prediction)):.0%}'\n",
    "    precision = f'{precision_score(y_valid, eval(prediction)):.0%}'\n",
    "    f1 = f'{f1_score(y_valid, eval(prediction)):.0%}'\n",
    "    auc = f'{roc_auc_score(y_valid, eval(auc_dict[prediction]).predict_proba(X_valid)[:, 1]):.0%}'\n",
    "    metrics = [accuracy, recall, precision, f1, auc]\n",
    "    bal_score_df[model_name] = metrics\n",
    "\n",
    "bal_score_df = bal_score_df.reset_index(drop=True)\n",
    "bal_score_df = bal_score_df.style.highlight_max().hide_index()\n",
    "bal_score_df"
   ]
  },
  {
   "cell_type": "markdown",
   "metadata": {},
   "source": [
    "**Observations:**\n",
    "- We have our model that reaches the 59% threshold (Random Forest)\n",
    "- However, that doesn't mean it's the best model to use to predict churn\n",
    "    - It depends what the trade-off is between retention cost and customer lifetime value \n",
    "    - If the retention cost is much lower than LTV, and we can afford being wrong multiple times to secure each retention, then a higher recall scoring model would be better as it would miss fewer potential churners\n",
    "    - On the other hand, if retention is quite costly and we need to be more selective about which customers to offer retention bonuses to, then we would optimize for a higher overal accuracy and precision \n",
    "- Both the tree models have decent AUC scores and accuracies, about the same as the non-balanced models     "
   ]
  },
  {
   "cell_type": "code",
   "execution_count": 39,
   "metadata": {},
   "outputs": [
    {
     "name": "stdout",
     "output_type": "stream",
     "text": [
      "Training Set Results:\n",
      "\n",
      "Model Scores:\n",
      "Accuracy: 90.5%\n",
      "Recall: 82.7%\n",
      "Precision: 73.8%\n",
      "F1 Score: 78.0%\n",
      "\n",
      "Prediction Distribution:\n",
      "      0      1\n",
      "0  4632  0.772\n",
      "1  1368  0.228\n",
      "\n",
      "AUC Score:\n",
      "0.9565816354143616\n",
      "\n",
      "Confusion Matrix:\n",
      "[[4420  358]\n",
      " [ 212 1010]]\n",
      "\n",
      "\n",
      "Validation Set Results:\n",
      "\n",
      "Model Scores:\n",
      "Accuracy: 84.4%\n",
      "Recall: 66.4%\n",
      "Precision: 60.8%\n",
      "F1 Score: 63.5%\n",
      "\n",
      "Prediction Distribution:\n",
      "      0      1\n",
      "0  1554  0.777\n",
      "1   446  0.223\n",
      "\n",
      "AUC Score:\n",
      "0.8610731352842645\n",
      "\n",
      "Confusion Matrix:\n",
      "[[1417  175]\n",
      " [ 137  271]]\n"
     ]
    }
   ],
   "source": [
    "# Try balanced_subsample for Random Forest\n",
    "\n",
    "# Baseline model with class balancing param\n",
    "\n",
    "model2_balsub = RandomForestClassifier(**best_params, random_state=random_state, class_weight='balanced_subsample')\n",
    "model2_balsub.fit(X_train, y_train)\n",
    "\n",
    "model2_balsub_train_y = model2_balsub.predict(X_train)\n",
    "model2_balsub_valid_y = model2_balsub.predict(X_valid)\n",
    "\n",
    "print('Training Set Results:')\n",
    "print()\n",
    "print_all_results(model2_balsub, X_train, y_train, model2_balsub_train_y)\n",
    "\n",
    "print()\n",
    "print()\n",
    "\n",
    "print('Validation Set Results:')\n",
    "print()\n",
    "print_all_results(model2_balsub, X_valid, y_valid, model2_balsub_valid_y)"
   ]
  },
  {
   "cell_type": "markdown",
   "metadata": {},
   "source": [
    "**Random Forest Balanced Subsample:**\n",
    "- Tried this method which balances the classes in each bootstrap sample (each tree) as opposed to balancing the overall training dataset\n",
    "- Results are not better than regular class balancing, so we will ignore this method"
   ]
  },
  {
   "cell_type": "markdown",
   "metadata": {},
   "source": [
    "### Imbalance Adjusted Modeling - Upsampling"
   ]
  },
  {
   "cell_type": "code",
   "execution_count": 40,
   "metadata": {},
   "outputs": [
    {
     "data": {
      "text/plain": [
       "0    4778\n",
       "1    1222\n",
       "Name: Exited, dtype: int64"
      ]
     },
     "execution_count": 40,
     "metadata": {},
     "output_type": "execute_result"
    }
   ],
   "source": [
    "# What factor to use for upsaplinng? \n",
    "#     Churns are about 4x lower than retained customers\n",
    "\n",
    "y_train.value_counts()"
   ]
  },
  {
   "cell_type": "code",
   "execution_count": 41,
   "metadata": {},
   "outputs": [],
   "source": [
    "def upsample(features, target, repeat):\n",
    "    features_zeros = features[target == 0]\n",
    "    features_ones = features[target == 1]\n",
    "    target_zeros = target[target == 0]\n",
    "    target_ones = target[target == 1]\n",
    "\n",
    "    features_upsampled = pd.concat([features_zeros] + [features_ones] * repeat)\n",
    "    target_upsampled = pd.concat([target_zeros] + [target_ones] * repeat)\n",
    "\n",
    "    features_upsampled, target_upsampled = shuffle(features_upsampled, target_upsampled, random_state=12345)\n",
    "    return features_upsampled, target_upsampled"
   ]
  },
  {
   "cell_type": "code",
   "execution_count": 42,
   "metadata": {},
   "outputs": [],
   "source": [
    "X_train_up, y_train_up = upsample(X_train, y_train, 4)"
   ]
  },
  {
   "cell_type": "code",
   "execution_count": 43,
   "metadata": {},
   "outputs": [
    {
     "name": "stdout",
     "output_type": "stream",
     "text": [
      "Training Set Results:\n",
      "\n",
      "Model Scores:\n",
      "Accuracy: 69.6%\n",
      "Recall: 68.5%\n",
      "Precision: 36.8%\n",
      "F1 Score: 47.9%\n",
      "\n",
      "Prediction Distribution:\n",
      "      0         1\n",
      "0  3724  0.620667\n",
      "1  2276  0.379333\n",
      "\n",
      "AUC Score:\n",
      "0.7553337069314554\n",
      "\n",
      "Confusion Matrix:\n",
      "[[3339 1439]\n",
      " [ 385  837]]\n"
     ]
    }
   ],
   "source": [
    "model0_up = LogisticRegression(random_state=12345, solver='liblinear')\n",
    "model0_up.fit(X_train_up, y_train_up)\n",
    "model0_up_train_y = model0_up.predict(X_train)\n",
    "\n",
    "print('Training Set Results:')\n",
    "print()\n",
    "print_all_results(model0_up, X_train, y_train, model0_up_train_y)"
   ]
  },
  {
   "cell_type": "code",
   "execution_count": 44,
   "metadata": {},
   "outputs": [
    {
     "name": "stdout",
     "output_type": "stream",
     "text": [
      "Validation Set Results:\n",
      "\n",
      "Model Scores:\n",
      "Accuracy: 70.7%\n",
      "Recall: 73.0%\n",
      "Precision: 38.5%\n",
      "F1 Score: 50.4%\n",
      "\n",
      "Prediction Distribution:\n",
      "      0      1\n",
      "0  1226  0.613\n",
      "1   774  0.387\n",
      "\n",
      "AUC Score:\n",
      "0.7805541186323777\n",
      "\n",
      "Confusion Matrix:\n",
      "[[1116  476]\n",
      " [ 110  298]]\n"
     ]
    }
   ],
   "source": [
    "model0_up_valid_y = model0_up.predict(X_valid)\n",
    "\n",
    "print('Validation Set Results:')\n",
    "print()\n",
    "print_all_results(model0_up, X_valid, y_valid, model0_up_valid_y)"
   ]
  },
  {
   "cell_type": "markdown",
   "metadata": {},
   "source": [
    "**Logistic Regression Upsampled:**\n",
    "- The results are more or less similar to using class_weight\n",
    "- Accuracy is a bit lower but F1 is a lot higher than unbalanced model \n",
    "- The models now predict more churns, but now are overpredicting churns "
   ]
  },
  {
   "cell_type": "code",
   "execution_count": 45,
   "metadata": {},
   "outputs": [
    {
     "name": "stdout",
     "output_type": "stream",
     "text": [
      "Training Set Results:\n",
      "\n",
      "Model Scores:\n",
      "Accuracy: 80.3%\n",
      "Recall: 84.6%\n",
      "Precision: 50.9%\n",
      "F1 Score: 63.6%\n",
      "\n",
      "Prediction Distribution:\n",
      "      0         1\n",
      "0  3970  0.661667\n",
      "1  2030  0.338333\n",
      "\n",
      "AUC Score:\n",
      "0.9080443371453586\n",
      "\n",
      "Confusion Matrix:\n",
      "[[3782  996]\n",
      " [ 188 1034]]\n"
     ]
    }
   ],
   "source": [
    "# Upsampling for Decision Tree\n",
    "\n",
    "model1_up = DecisionTreeClassifier(random_state=random_state, max_depth=best_tree_depth)\n",
    "model1_up.fit(X_train_up, y_train_up)\n",
    "\n",
    "model1_up_train_y = model1_up.predict(X_train)\n",
    "\n",
    "print('Training Set Results:')\n",
    "print()\n",
    "print_all_results(model1_up, X_train, y_train, model1_up_train_y)"
   ]
  },
  {
   "cell_type": "code",
   "execution_count": 46,
   "metadata": {},
   "outputs": [
    {
     "name": "stdout",
     "output_type": "stream",
     "text": [
      "Validation Set Results:\n",
      "\n",
      "Model Scores:\n",
      "Accuracy: 75.5%\n",
      "Recall: 74.3%\n",
      "Precision: 44.0%\n",
      "F1 Score: 55.3%\n",
      "\n",
      "Prediction Distribution:\n",
      "      0      1\n",
      "0  1312  0.656\n",
      "1   688  0.344\n",
      "\n",
      "AUC Score:\n",
      "0.8038615257660853\n",
      "\n",
      "Confusion Matrix:\n",
      "[[1207  385]\n",
      " [ 105  303]]\n"
     ]
    }
   ],
   "source": [
    "# Looking at the validation set\n",
    "\n",
    "model1_up_valid_y = model1_up.predict(X_valid)\n",
    "\n",
    "print('Validation Set Results:')\n",
    "print()\n",
    "print_all_results(model1_up, X_valid, y_valid, model1_up_valid_y)"
   ]
  },
  {
   "cell_type": "markdown",
   "metadata": {},
   "source": [
    "**Decision Tree Upsampled:** \n",
    "- Results are better than baseline Log Regression\n",
    "- Recall is fairly high, meaning the model is predicting most of the actual churns\n",
    "- Precision is low, but if the business purpose of this exercise is to reduce the cost of churns and also customer retention cost, then the calculation for how many misidentifications is worth it would be something like:\n",
    "    - LTV of customer vs. total cost of retaining that customer, including cost of incentives given to misidentified churners\n",
    "    - It seems like keeping customers is a priority, so it is probably better to give out incentives to stay to more customers (even if not all would've churned) than to lose customers (especially in context of a declining business with high CAC\n",
    "- F1 not at the 59% threshold but getting better\n",
    "- We can try to improve precision of the model to bring it up "
   ]
  },
  {
   "cell_type": "code",
   "execution_count": 47,
   "metadata": {},
   "outputs": [
    {
     "name": "stdout",
     "output_type": "stream",
     "text": [
      "Training Set Results:\n",
      "\n",
      "Model Scores:\n",
      "Accuracy: 89.6%\n",
      "Recall: 93.2%\n",
      "Precision: 67.8%\n",
      "F1 Score: 78.5%\n",
      "\n",
      "Prediction Distribution:\n",
      "      0     1\n",
      "0  4320  0.72\n",
      "1  1680  0.28\n",
      "\n",
      "AUC Score:\n",
      "0.969319795653702\n",
      "\n",
      "Confusion Matrix:\n",
      "[[4237  541]\n",
      " [  83 1139]]\n"
     ]
    }
   ],
   "source": [
    "# Using Random Forest on the upsampled data\n",
    "\n",
    "model2_up = RandomForestClassifier(**best_params, random_state=random_state)\n",
    "model2_up.fit(X_train_up, y_train_up)\n",
    "\n",
    "model2_up_train_y = model2_up.predict(X_train)\n",
    "\n",
    "print('Training Set Results:')\n",
    "print()\n",
    "print_all_results(model2_up, X_train, y_train, model2_up_train_y)"
   ]
  },
  {
   "cell_type": "code",
   "execution_count": 48,
   "metadata": {},
   "outputs": [
    {
     "name": "stdout",
     "output_type": "stream",
     "text": [
      "Validation Set Results:\n",
      "\n",
      "Model Scores:\n",
      "Accuracy: 81.1%\n",
      "Recall: 71.6%\n",
      "Precision: 52.7%\n",
      "F1 Score: 60.7%\n",
      "\n",
      "Prediction Distribution:\n",
      "      0      1\n",
      "0  1446  0.723\n",
      "1   554  0.277\n",
      "\n",
      "AUC Score:\n",
      "0.8514562703221993\n",
      "\n",
      "Confusion Matrix:\n",
      "[[1330  262]\n",
      " [ 116  292]]\n"
     ]
    }
   ],
   "source": [
    "model2_up_valid_y = model2_up.predict(X_valid)\n",
    "\n",
    "print('Validation Set Results:')\n",
    "print()\n",
    "print_all_results(model2_up, X_valid, y_valid, model2_up_valid_y)"
   ]
  },
  {
   "cell_type": "markdown",
   "metadata": {},
   "source": [
    "**Random Forest Upsampled:** \n",
    "- Similar to unbalanced model, performance dropped significantly between the training and validation set \n",
    "- Has better precision than the decision tree, but worse recall"
   ]
  },
  {
   "cell_type": "code",
   "execution_count": 49,
   "metadata": {},
   "outputs": [
    {
     "data": {
      "text/html": [
       "<style  type=\"text/css\" >\n",
       "</style><table id=\"T_16375_\" ><thead>    <tr>        <th class=\"col_heading level0 col0\" >Metrics</th>        <th class=\"col_heading level0 col1\" >Log Regression</th>        <th class=\"col_heading level0 col2\" >Decision Tree</th>        <th class=\"col_heading level0 col3\" >Random Forest</th>    </tr></thead><tbody>\n",
       "                <tr>\n",
       "                                <td id=\"T_16375_row0_col0\" class=\"data row0 col0\" >Accuracy</td>\n",
       "                        <td id=\"T_16375_row0_col1\" class=\"data row0 col1\" >71%</td>\n",
       "                        <td id=\"T_16375_row0_col2\" class=\"data row0 col2\" >76%</td>\n",
       "                        <td id=\"T_16375_row0_col3\" class=\"data row0 col3\" >81%</td>\n",
       "            </tr>\n",
       "            <tr>\n",
       "                                <td id=\"T_16375_row1_col0\" class=\"data row1 col0\" >Recall</td>\n",
       "                        <td id=\"T_16375_row1_col1\" class=\"data row1 col1\" >73%</td>\n",
       "                        <td id=\"T_16375_row1_col2\" class=\"data row1 col2\" >74%</td>\n",
       "                        <td id=\"T_16375_row1_col3\" class=\"data row1 col3\" >72%</td>\n",
       "            </tr>\n",
       "            <tr>\n",
       "                                <td id=\"T_16375_row2_col0\" class=\"data row2 col0\" >Precision</td>\n",
       "                        <td id=\"T_16375_row2_col1\" class=\"data row2 col1\" >39%</td>\n",
       "                        <td id=\"T_16375_row2_col2\" class=\"data row2 col2\" >44%</td>\n",
       "                        <td id=\"T_16375_row2_col3\" class=\"data row2 col3\" >53%</td>\n",
       "            </tr>\n",
       "            <tr>\n",
       "                                <td id=\"T_16375_row3_col0\" class=\"data row3 col0\" >F1 Score</td>\n",
       "                        <td id=\"T_16375_row3_col1\" class=\"data row3 col1\" >50%</td>\n",
       "                        <td id=\"T_16375_row3_col2\" class=\"data row3 col2\" >55%</td>\n",
       "                        <td id=\"T_16375_row3_col3\" class=\"data row3 col3\" >61%</td>\n",
       "            </tr>\n",
       "            <tr>\n",
       "                                <td id=\"T_16375_row4_col0\" class=\"data row4 col0\" >AUC-ROC Score</td>\n",
       "                        <td id=\"T_16375_row4_col1\" class=\"data row4 col1\" >78%</td>\n",
       "                        <td id=\"T_16375_row4_col2\" class=\"data row4 col2\" >80%</td>\n",
       "                        <td id=\"T_16375_row4_col3\" class=\"data row4 col3\" >85%</td>\n",
       "            </tr>\n",
       "    </tbody></table>"
      ],
      "text/plain": [
       "<pandas.io.formats.style.Styler at 0x7f729c13d700>"
      ]
     },
     "execution_count": 49,
     "metadata": {},
     "output_type": "execute_result"
    }
   ],
   "source": [
    "# Comparing scores from all three models\n",
    "\n",
    "model_dict = {\n",
    "    'model0_up_valid_y': 'Log Regression',\n",
    "    'model1_up_valid_y': 'Decision Tree',\n",
    "    'model2_up_valid_y': 'Random Forest'\n",
    "}\n",
    "\n",
    "auc_dict = {\n",
    "    'model0_up_valid_y': 'model0_up',\n",
    "    'model1_up_valid_y': 'model1_up',\n",
    "    'model2_up_valid_y': 'model2_up'\n",
    "}\n",
    "\n",
    "train_predictions = ['model0_up_valid_y', 'model1_up_valid_y', 'model2_up_valid_y']\n",
    "    \n",
    "up_score_df = pd.DataFrame()\n",
    "up_score_df['Metrics'] = ['Accuracy', 'Recall', 'Precision', 'F1 Score', 'AUC-ROC Score']\n",
    "\n",
    "for prediction in train_predictions:\n",
    "    model_name = model_dict[prediction]\n",
    "    accuracy = f'{accuracy_score(y_valid, eval(prediction)):.0%}'\n",
    "    recall = f'{recall_score(y_valid, eval(prediction)):.0%}'\n",
    "    precision = f'{precision_score(y_valid, eval(prediction)):.0%}'\n",
    "    f1 = f'{f1_score(y_valid, eval(prediction)):.0%}'\n",
    "    auc = f'{roc_auc_score(y_valid, eval(auc_dict[prediction]).predict_proba(X_valid)[:, 1]):.0%}'\n",
    "    metrics = [accuracy, recall, precision, f1, auc]\n",
    "    up_score_df[model_name] = metrics\n",
    "\n",
    "up_score_df = up_score_df.reset_index(drop=True)\n",
    "up_score_df = up_score_df.style.highlight_max().hide_index()\n",
    "up_score_df"
   ]
  },
  {
   "cell_type": "markdown",
   "metadata": {},
   "source": [
    "**Observations:**\n",
    "- Random Forest performs the best overall, but has somewhat lower recall than decision tree, as the Decision Tree predicts more churns (but has more false positives and a lower precision as a result)\n",
    "- Using the best parameters discovered with GridSearchCV, we get just below the 59% F1 threshold \n",
    "- Both tree models outperform the baseline Log Regression model"
   ]
  },
  {
   "cell_type": "code",
   "execution_count": 50,
   "metadata": {},
   "outputs": [
    {
     "data": {
      "text/html": [
       "<style  type=\"text/css\" >\n",
       "</style><table id=\"T_f8a4a_\" ><thead>    <tr>        <th class=\"col_heading level0 col0\" >Metrics</th>        <th class=\"col_heading level0 col1\" >Log Regression</th>        <th class=\"col_heading level0 col2\" >Decision Tree</th>        <th class=\"col_heading level0 col3\" >Random Forest</th>    </tr></thead><tbody>\n",
       "                <tr>\n",
       "                                <td id=\"T_f8a4a_row0_col0\" class=\"data row0 col0\" >Accuracy</td>\n",
       "                        <td id=\"T_f8a4a_row0_col1\" class=\"data row0 col1\" >80%</td>\n",
       "                        <td id=\"T_f8a4a_row0_col2\" class=\"data row0 col2\" >86%</td>\n",
       "                        <td id=\"T_f8a4a_row0_col3\" class=\"data row0 col3\" >86%</td>\n",
       "            </tr>\n",
       "            <tr>\n",
       "                                <td id=\"T_f8a4a_row1_col0\" class=\"data row1 col0\" >Recall</td>\n",
       "                        <td id=\"T_f8a4a_row1_col1\" class=\"data row1 col1\" >16%</td>\n",
       "                        <td id=\"T_f8a4a_row1_col2\" class=\"data row1 col2\" >51%</td>\n",
       "                        <td id=\"T_f8a4a_row1_col3\" class=\"data row1 col3\" >45%</td>\n",
       "            </tr>\n",
       "            <tr>\n",
       "                                <td id=\"T_f8a4a_row2_col0\" class=\"data row2 col0\" >Precision</td>\n",
       "                        <td id=\"T_f8a4a_row2_col1\" class=\"data row2 col1\" >55%</td>\n",
       "                        <td id=\"T_f8a4a_row2_col2\" class=\"data row2 col2\" >71%</td>\n",
       "                        <td id=\"T_f8a4a_row2_col3\" class=\"data row2 col3\" >75%</td>\n",
       "            </tr>\n",
       "            <tr>\n",
       "                                <td id=\"T_f8a4a_row3_col0\" class=\"data row3 col0\" >F1 Score</td>\n",
       "                        <td id=\"T_f8a4a_row3_col1\" class=\"data row3 col1\" >24%</td>\n",
       "                        <td id=\"T_f8a4a_row3_col2\" class=\"data row3 col2\" >59%</td>\n",
       "                        <td id=\"T_f8a4a_row3_col3\" class=\"data row3 col3\" >56%</td>\n",
       "            </tr>\n",
       "            <tr>\n",
       "                                <td id=\"T_f8a4a_row4_col0\" class=\"data row4 col0\" >AUC-ROC Score</td>\n",
       "                        <td id=\"T_f8a4a_row4_col1\" class=\"data row4 col1\" >77%</td>\n",
       "                        <td id=\"T_f8a4a_row4_col2\" class=\"data row4 col2\" >81%</td>\n",
       "                        <td id=\"T_f8a4a_row4_col3\" class=\"data row4 col3\" >86%</td>\n",
       "            </tr>\n",
       "    </tbody></table>"
      ],
      "text/plain": [
       "<pandas.io.formats.style.Styler at 0x7f729c4471f0>"
      ]
     },
     "metadata": {},
     "output_type": "display_data"
    },
    {
     "data": {
      "text/html": [
       "<style  type=\"text/css\" >\n",
       "</style><table id=\"T_2d5a3_\" ><thead>    <tr>        <th class=\"col_heading level0 col0\" >Metrics</th>        <th class=\"col_heading level0 col1\" >Log Regression</th>        <th class=\"col_heading level0 col2\" >Decision Tree</th>        <th class=\"col_heading level0 col3\" >Random Forest</th>    </tr></thead><tbody>\n",
       "                <tr>\n",
       "                                <td id=\"T_2d5a3_row0_col0\" class=\"data row0 col0\" >Accuracy</td>\n",
       "                        <td id=\"T_2d5a3_row0_col1\" class=\"data row0 col1\" >71%</td>\n",
       "                        <td id=\"T_2d5a3_row0_col2\" class=\"data row0 col2\" >76%</td>\n",
       "                        <td id=\"T_2d5a3_row0_col3\" class=\"data row0 col3\" >84%</td>\n",
       "            </tr>\n",
       "            <tr>\n",
       "                                <td id=\"T_2d5a3_row1_col0\" class=\"data row1 col0\" >Recall</td>\n",
       "                        <td id=\"T_2d5a3_row1_col1\" class=\"data row1 col1\" >72%</td>\n",
       "                        <td id=\"T_2d5a3_row1_col2\" class=\"data row1 col2\" >74%</td>\n",
       "                        <td id=\"T_2d5a3_row1_col3\" class=\"data row1 col3\" >68%</td>\n",
       "            </tr>\n",
       "            <tr>\n",
       "                                <td id=\"T_2d5a3_row2_col0\" class=\"data row2 col0\" >Precision</td>\n",
       "                        <td id=\"T_2d5a3_row2_col1\" class=\"data row2 col1\" >39%</td>\n",
       "                        <td id=\"T_2d5a3_row2_col2\" class=\"data row2 col2\" >44%</td>\n",
       "                        <td id=\"T_2d5a3_row2_col3\" class=\"data row2 col3\" >59%</td>\n",
       "            </tr>\n",
       "            <tr>\n",
       "                                <td id=\"T_2d5a3_row3_col0\" class=\"data row3 col0\" >F1 Score</td>\n",
       "                        <td id=\"T_2d5a3_row3_col1\" class=\"data row3 col1\" >51%</td>\n",
       "                        <td id=\"T_2d5a3_row3_col2\" class=\"data row3 col2\" >55%</td>\n",
       "                        <td id=\"T_2d5a3_row3_col3\" class=\"data row3 col3\" >63%</td>\n",
       "            </tr>\n",
       "            <tr>\n",
       "                                <td id=\"T_2d5a3_row4_col0\" class=\"data row4 col0\" >AUC-ROC Score</td>\n",
       "                        <td id=\"T_2d5a3_row4_col1\" class=\"data row4 col1\" >78%</td>\n",
       "                        <td id=\"T_2d5a3_row4_col2\" class=\"data row4 col2\" >80%</td>\n",
       "                        <td id=\"T_2d5a3_row4_col3\" class=\"data row4 col3\" >86%</td>\n",
       "            </tr>\n",
       "    </tbody></table>"
      ],
      "text/plain": [
       "<pandas.io.formats.style.Styler at 0x7f729c170cd0>"
      ]
     },
     "metadata": {},
     "output_type": "display_data"
    },
    {
     "data": {
      "text/html": [
       "<style  type=\"text/css\" >\n",
       "</style><table id=\"T_16375_\" ><thead>    <tr>        <th class=\"col_heading level0 col0\" >Metrics</th>        <th class=\"col_heading level0 col1\" >Log Regression</th>        <th class=\"col_heading level0 col2\" >Decision Tree</th>        <th class=\"col_heading level0 col3\" >Random Forest</th>    </tr></thead><tbody>\n",
       "                <tr>\n",
       "                                <td id=\"T_16375_row0_col0\" class=\"data row0 col0\" >Accuracy</td>\n",
       "                        <td id=\"T_16375_row0_col1\" class=\"data row0 col1\" >71%</td>\n",
       "                        <td id=\"T_16375_row0_col2\" class=\"data row0 col2\" >76%</td>\n",
       "                        <td id=\"T_16375_row0_col3\" class=\"data row0 col3\" >81%</td>\n",
       "            </tr>\n",
       "            <tr>\n",
       "                                <td id=\"T_16375_row1_col0\" class=\"data row1 col0\" >Recall</td>\n",
       "                        <td id=\"T_16375_row1_col1\" class=\"data row1 col1\" >73%</td>\n",
       "                        <td id=\"T_16375_row1_col2\" class=\"data row1 col2\" >74%</td>\n",
       "                        <td id=\"T_16375_row1_col3\" class=\"data row1 col3\" >72%</td>\n",
       "            </tr>\n",
       "            <tr>\n",
       "                                <td id=\"T_16375_row2_col0\" class=\"data row2 col0\" >Precision</td>\n",
       "                        <td id=\"T_16375_row2_col1\" class=\"data row2 col1\" >39%</td>\n",
       "                        <td id=\"T_16375_row2_col2\" class=\"data row2 col2\" >44%</td>\n",
       "                        <td id=\"T_16375_row2_col3\" class=\"data row2 col3\" >53%</td>\n",
       "            </tr>\n",
       "            <tr>\n",
       "                                <td id=\"T_16375_row3_col0\" class=\"data row3 col0\" >F1 Score</td>\n",
       "                        <td id=\"T_16375_row3_col1\" class=\"data row3 col1\" >50%</td>\n",
       "                        <td id=\"T_16375_row3_col2\" class=\"data row3 col2\" >55%</td>\n",
       "                        <td id=\"T_16375_row3_col3\" class=\"data row3 col3\" >61%</td>\n",
       "            </tr>\n",
       "            <tr>\n",
       "                                <td id=\"T_16375_row4_col0\" class=\"data row4 col0\" >AUC-ROC Score</td>\n",
       "                        <td id=\"T_16375_row4_col1\" class=\"data row4 col1\" >78%</td>\n",
       "                        <td id=\"T_16375_row4_col2\" class=\"data row4 col2\" >80%</td>\n",
       "                        <td id=\"T_16375_row4_col3\" class=\"data row4 col3\" >85%</td>\n",
       "            </tr>\n",
       "    </tbody></table>"
      ],
      "text/plain": [
       "<pandas.io.formats.style.Styler at 0x7f729c13d700>"
      ]
     },
     "metadata": {},
     "output_type": "display_data"
    }
   ],
   "source": [
    "display(score_df)\n",
    "display(bal_score_df)\n",
    "display(up_score_df)"
   ]
  },
  {
   "cell_type": "markdown",
   "metadata": {},
   "source": [
    "### Testing Set\n",
    "- Of all the models, the class_weight balanced Random Forest performed the best in terms of F1\n",
    "- Generally, the Random Forest models performed the best whether imbalanced adjusted or not \n",
    "- AUC scores also highest for Random Forest"
   ]
  },
  {
   "cell_type": "code",
   "execution_count": 51,
   "metadata": {},
   "outputs": [
    {
     "name": "stdout",
     "output_type": "stream",
     "text": [
      "model0_bal_test_y\n",
      "Accuracy: 68.7%\n",
      "Recall: 65.6%\n",
      "Precision: 35.4%\n",
      "F1 Score: 46.0%\n",
      "\n",
      "model1_bal_test_y\n",
      "Accuracy: 75.3%\n",
      "Recall: 71.0%\n",
      "Precision: 43.5%\n",
      "F1 Score: 54.0%\n",
      "\n",
      "model2_bal_test_y\n",
      "Accuracy: 82.8%\n",
      "Recall: 59.5%\n",
      "Precision: 57.6%\n",
      "F1 Score: 58.5%\n",
      "\n",
      "model0_up_test_y\n",
      "Accuracy: 68.2%\n",
      "Recall: 66.6%\n",
      "Precision: 35.2%\n",
      "F1 Score: 46.0%\n",
      "\n",
      "model1_up_test_y\n",
      "Accuracy: 75.4%\n",
      "Recall: 71.0%\n",
      "Precision: 43.6%\n",
      "F1 Score: 54.0%\n",
      "\n",
      "model2_up_test_y\n",
      "Accuracy: 79.6%\n",
      "Recall: 62.7%\n",
      "Precision: 49.9%\n",
      "F1 Score: 55.6%\n",
      "\n"
     ]
    }
   ],
   "source": [
    "# Running Test sets for \n",
    "\n",
    "model0_bal_test_y = model0_bal.predict(X_test)\n",
    "model1_bal_test_y = model1_bal.predict(X_test)\n",
    "model2_bal_test_y = model2_bal.predict(X_test)\n",
    "\n",
    "model0_up_test_y = model0_up.predict(X_test)\n",
    "model1_up_test_y = model1_up.predict(X_test)\n",
    "model2_up_test_y = model2_up.predict(X_test)\n",
    "\n",
    "test_results = ['model0_bal_test_y', \n",
    "                'model1_bal_test_y', \n",
    "                'model2_bal_test_y',\n",
    "                'model0_up_test_y',\n",
    "                'model1_up_test_y',\n",
    "                'model2_up_test_y'\n",
    "               ]\n",
    "\n",
    "for model in test_results:\n",
    "    print(model)\n",
    "    print_eval_metrics(y_test, eval(model))\n",
    "    print()"
   ]
  },
  {
   "cell_type": "code",
   "execution_count": 52,
   "metadata": {},
   "outputs": [
    {
     "name": "stdout",
     "output_type": "stream",
     "text": [
      "Model Scores:\n",
      "Accuracy: 82.8%\n",
      "Recall: 59.5%\n",
      "Precision: 57.6%\n",
      "F1 Score: 58.5%\n",
      "\n",
      "Prediction Distribution:\n",
      "      0     1\n",
      "0  1580  0.79\n",
      "1   420  0.21\n",
      "\n",
      "AUC Score:\n",
      "0.8407544678731119\n",
      "\n",
      "Confusion Matrix:\n",
      "[[1415  178]\n",
      " [ 165  242]]\n"
     ]
    }
   ],
   "source": [
    "# Class balanced Random Forest\n",
    "print_all_results(model2_bal, X_test, y_test, model2_bal_test_y)"
   ]
  },
  {
   "cell_type": "code",
   "execution_count": 53,
   "metadata": {},
   "outputs": [
    {
     "name": "stdout",
     "output_type": "stream",
     "text": [
      "Model Scores:\n",
      "Accuracy: 79.6%\n",
      "Recall: 62.7%\n",
      "Precision: 49.9%\n",
      "F1 Score: 55.6%\n",
      "\n",
      "Prediction Distribution:\n",
      "      0       1\n",
      "0  1489  0.7445\n",
      "1   511  0.2555\n",
      "\n",
      "AUC Score:\n",
      "0.8299794401489318\n",
      "\n",
      "Confusion Matrix:\n",
      "[[1337  256]\n",
      " [ 152  255]]\n"
     ]
    }
   ],
   "source": [
    "# Upsampled Random Forest\n",
    "print_all_results(model2_up, X_test, y_test, model2_up_test_y)"
   ]
  },
  {
   "cell_type": "markdown",
   "metadata": {},
   "source": [
    "**Test Set Results:**\n",
    "- Out of all the models, only the Random Forest passes the 59% F1 threshold with both the upsampled and balanced class weight adjustments\n",
    "- There still remains the trade-off between recall and precision, where the Random Forest models sacrifice recall for precision and accuracy"
   ]
  },
  {
   "cell_type": "markdown",
   "metadata": {},
   "source": [
    "**Final Observations & Conclusion:**\n",
    "- The balanced Random Forest model had the highest F1 at 63%, while the upsampled Random Forest also passed the F1 threshold with a 60% F1\n",
    "- When looking at these scores holistically, the Random Forest seems the best choice overall\n",
    "    - High AUC score means the model is good at differentiating classes, accurately predicting both 0s and 1s\n",
    "    - The decision tree has higher recall but sacrificed precision\n",
    "- The choice of which model to use would still depend on the ratio of customer LTV vs. retention costs\n",
    "    - If the cost is higher and we want to minimize unneeded retention then the Random Forest does best \n",
    "    - However, if the goal is to get as much retention as possible (if the LTV would mitigate the retention costs), then the decision tree model which gets a higher percentage of all True Positives would be the better model given the business goals"
   ]
  }
 ],
 "metadata": {
  "kernelspec": {
   "display_name": "Python 3 (ipykernel)",
   "language": "python",
   "name": "python3"
  },
  "language_info": {
   "codemirror_mode": {
    "name": "ipython",
    "version": 3
   },
   "file_extension": ".py",
   "mimetype": "text/x-python",
   "name": "python",
   "nbconvert_exporter": "python",
   "pygments_lexer": "ipython3",
   "version": "3.11.1"
  },
  "toc": {
   "base_numbering": 1,
   "nav_menu": {},
   "number_sections": true,
   "sideBar": true,
   "skip_h1_title": true,
   "title_cell": "Table of Contents",
   "title_sidebar": "Contents",
   "toc_cell": false,
   "toc_position": {},
   "toc_section_display": true,
   "toc_window_display": false
  }
 },
 "nbformat": 4,
 "nbformat_minor": 2
}
